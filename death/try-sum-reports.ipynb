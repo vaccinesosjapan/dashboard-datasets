{
 "cells": [
  {
   "cell_type": "code",
   "execution_count": 103,
   "metadata": {},
   "outputs": [],
   "source": [
    "import glob, json, os\n",
    "import pandas as pd\n",
    "import yaml\n",
    "\n",
    "jsonFileList = glob.glob('reports-data/*.json')\n",
    "output_dir = '../_datasets'\n",
    "metadata_file_path = os.path.join('metadata.yaml')\n",
    "\n",
    "df = pd.DataFrame()\n",
    "for file in jsonFileList:\n",
    "\twith open(file, \"r\", encoding='utf-8') as f:\n",
    "\t\tdata = json.load(f)\n",
    "\t\teach_df = pd.DataFrame(data)\n",
    "\t\teach_df['pre_existing_conditions'] = each_df['pre_existing_conditions'].str.replace('\\r\\n', '\\n').str.replace('\\n', '')\n",
    "\t\tdf = pd.concat([df, each_df])\n"
   ]
  },
  {
   "cell_type": "code",
   "execution_count": 104,
   "metadata": {},
   "outputs": [],
   "source": [
    "# 亡くなった方の全症例をひとつにまとめて death-reports.json に保存する処理。\n",
    "df = df.sort_values('id')\n",
    "\n",
    "df_dict = df.to_dict(\"records\")\n",
    "json_string = json.dumps(df_dict, ensure_ascii=False, indent=2)\n",
    "\n",
    "output_path = os.path.join(output_dir, 'death-reports.json')\n",
    "with open( output_path, \"w\", encoding='utf-8') as f:\n",
    "    f.write(json_string)\n"
   ]
  },
  {
   "cell_type": "code",
   "execution_count": 105,
   "metadata": {},
   "outputs": [],
   "source": [
    "# 性別などの一覧データを作成して、ダッシュボードで表示するためのメタデータとして\n",
    "# death-metadata.json に保存する処理。\n",
    "death_metadata = {\n",
    "\t\"gender_list\": sorted(df['gender'].unique().tolist(), reverse=True),\n",
    "\t\"causal_relationship_by_expert_list\": sorted(df['causal_relationship_by_expert'].unique().tolist()),\n",
    "}\n",
    "\n",
    "json_string = json.dumps(death_metadata, ensure_ascii=False, indent=2)\n",
    "output_file_path = os.path.join(output_dir, 'death-metadata.json')\n",
    "with open( output_file_path, \"w\", encoding='utf-8') as f:\n",
    "\tf.write(json_string)"
   ]
  },
  {
   "cell_type": "code",
   "execution_count": 106,
   "metadata": {},
   "outputs": [],
   "source": [
    "# ロットNoの集計結果を保存する処理。\n",
    "valid_lotno_series = df['lot_no'].map(lambda x: not str(x).__contains__('不明'))\n",
    "valid_lotno_df = df[valid_lotno_series]\n",
    "invalid_lotno_df = df[~valid_lotno_series] # 先頭に「~」をつけるとbooleanが反転したSeriesを得られる\n",
    "\n",
    "valid_lotno_dict = valid_lotno_df.groupby(['lot_no'])['no'].count().nlargest(10).to_dict()\n",
    "valid_lotno_list = []\n",
    "for k,v in valid_lotno_dict.items():\n",
    "\tvalid_lotno_list.append({\n",
    "\t\t\"lot_no\": k,\n",
    "\t\t\"count\": v,\n",
    "\t\t\"manufacturer\": valid_lotno_df[valid_lotno_df['lot_no'] == k]['manufacturer'].unique()[0]\n",
    "\t})\n",
    "\n",
    "moderna_lotno_dict = valid_lotno_df[valid_lotno_df['manufacturer'].str.contains('モデルナ')].groupby(['lot_no'])['no'].count().nlargest(10).to_dict()\n",
    "moderna_lotno_list = []\n",
    "for k,v in moderna_lotno_dict.items():\n",
    "\tmoderna_lotno_list.append({\n",
    "\t\t\"lot_no\": k,\n",
    "\t\t\"count\": v,\n",
    "\t\t\"manufacturer\": valid_lotno_df[valid_lotno_df['lot_no'] == k]['manufacturer'].unique()[0]\n",
    "\t})"
   ]
  },
  {
   "cell_type": "code",
   "execution_count": 107,
   "metadata": {},
   "outputs": [],
   "source": [
    "with open(metadata_file_path, \"r\", encoding='utf-8') as f:\n",
    "    metadata_root = yaml.safe_load(f) \n",
    "metadata = metadata_root['metadata']"
   ]
  },
  {
   "cell_type": "code",
   "execution_count": 108,
   "metadata": {},
   "outputs": [],
   "source": [
    "# 年齢に変な文字列が残っていないか確認するための処理\n",
    "# df['age'].unique()"
   ]
  },
  {
   "cell_type": "code",
   "execution_count": 109,
   "metadata": {},
   "outputs": [],
   "source": [
    "# XX歳代という情報を抽出するため、数字に変換されず文字列として残っている年齢データのうち\n",
    "# 使えそうなデータだけを抽出する。\n",
    "str_ages_series = df[df['age'].str.isdecimal().notna()]['age']\n",
    "str_ages_series = str_ages_series.str.replace('歳代', '代').str.replace('代', '')\n",
    "can_convert_ages_series = str_ages_series[str_ages_series.str.isdecimal()]\n",
    "can_convert_ages_series = can_convert_ages_series.astype(int)"
   ]
  },
  {
   "cell_type": "code",
   "execution_count": 110,
   "metadata": {},
   "outputs": [],
   "source": [
    "# もともと数字に変換できていた年齢データを抽出し、上述の変換データと結合する。\n",
    "valid_ages_series = df[df['age'].astype(str).str.isdecimal()]['age']\n",
    "valid_ages_series = pd.concat([valid_ages_series, can_convert_ages_series])"
   ]
  },
  {
   "cell_type": "code",
   "execution_count": 111,
   "metadata": {},
   "outputs": [],
   "source": [
    "age_dict = { '0代': 0,  '10代': 0, '20代': 0, '30代': 0, '40代': 0, '50代': 0, '60代': 0, '70代': 0, '80代': 0, '90代': 0, '100歳以上': 0}\n",
    "for age in valid_ages_series.values:\n",
    "\tif 0 <= age < 10:\n",
    "\t\tage_dict['0代'] += 1\n",
    "\telif 10 <= age < 20:\n",
    "\t\tage_dict['10代'] += 1\n",
    "\telif 20 <= age < 30:\n",
    "\t\tage_dict['20代'] += 1\n",
    "\telif 30 <= age < 40:\n",
    "\t\tage_dict['30代'] += 1\n",
    "\telif 40 <= age < 50:\n",
    "\t\tage_dict['40代'] += 1\n",
    "\telif 50 <= age < 60:\n",
    "\t\tage_dict['50代'] += 1\n",
    "\telif 60 <= age < 70:\n",
    "\t\tage_dict['60代'] += 1\n",
    "\telif 70 <= age < 80:\n",
    "\t\tage_dict['70代'] += 1\n",
    "\telif 80 <= age < 90:\n",
    "\t\tage_dict['80代'] += 1\n",
    "\telif 90 <= age < 100:\n",
    "\t\tage_dict['90代'] += 1\n",
    "\telse:\n",
    "\t\tage_dict['100歳以上'] += 1"
   ]
  },
  {
   "cell_type": "code",
   "execution_count": 112,
   "metadata": {},
   "outputs": [],
   "source": [
    "sum_by_age = []\n",
    "for period in age_dict.keys():\n",
    "\tsum_by_age.append({\"x\": period, \"y\": age_dict[period]})"
   ]
  },
  {
   "cell_type": "code",
   "execution_count": 113,
   "metadata": {},
   "outputs": [],
   "source": [
    "summary_data = {\n",
    "\t\"death_summary_from_reports\": {\n",
    "\t\t\"date\": metadata['data_end_date'],\n",
    "\t\t\"ages_count\": int(valid_ages_series.count()),\n",
    "\t\t\"unknown_ages_count\": int(df.shape[0] - valid_ages_series.count()),\n",
    "\t\t\"sum_by_age\": sum_by_age,\n",
    "\t\t\"lot_no_info\": {\n",
    "\t\t\t\"top_ten_list\": valid_lotno_list,\n",
    "\t\t\t\"top_ten_list_moderna\": moderna_lotno_list,\n",
    "\t\t\t\"invalid_count\": invalid_lotno_df.shape[0]\n",
    "\t\t},\n",
    "\t}\n",
    "}"
   ]
  },
  {
   "cell_type": "code",
   "execution_count": 114,
   "metadata": {},
   "outputs": [],
   "source": [
    "json_string = json.dumps(summary_data, ensure_ascii=False, indent=2)\n",
    "output_path = os.path.join(output_dir, 'death-summary-from-reports.json')\n",
    "with open( output_path, \"w\", encoding='utf-8') as f:\n",
    "    f.write(json_string)"
   ]
  },
  {
   "cell_type": "code",
   "execution_count": 115,
   "metadata": {},
   "outputs": [],
   "source": [
    "# 正解データであるdeath-table.csvの情報を集計して、ダッシュボードで使えるデータにする\n",
    "expeced_df = pd.read_csv('death-table.csv')\n",
    "expeced_df = expeced_df[expeced_df['Use']]\n",
    "expeced_df = expeced_df.rename({'ワクチン名': 'vaccine_name'}, axis=1)\n",
    "expeced_df = expeced_df.rename({'製造販売業者': 'manufacturer'}, axis=1)\n",
    "result_series = expeced_df[['α', 'β', 'γ']].sum()"
   ]
  },
  {
   "cell_type": "code",
   "execution_count": 116,
   "metadata": {},
   "outputs": [],
   "source": [
    "vaccine_name_grouped_df = expeced_df.groupby('vaccine_name')[['α', 'β', 'γ']].sum()\n",
    "sum_by_vaccine_name = []\n",
    "for vaccine_name in vaccine_name_grouped_df.index:\n",
    "\tsum_by_vaccine_name.append({\n",
    "\t\t\"vaccine_name\": vaccine_name,\n",
    "\t\t\"evaluations\": {\n",
    "\t\t\t\"alpha\": int(vaccine_name_grouped_df.loc[vaccine_name, 'α']),\n",
    "        \t\"beta\": int(vaccine_name_grouped_df.loc[vaccine_name, 'β']),\n",
    "        \t\"gamma\": int(vaccine_name_grouped_df.loc[vaccine_name, 'γ'])\n",
    "\t\t}\n",
    "\t})"
   ]
  },
  {
   "cell_type": "code",
   "execution_count": 117,
   "metadata": {},
   "outputs": [],
   "source": [
    "manufacturer_grouped_df = expeced_df.groupby('manufacturer')[['α', 'β', 'γ']].sum()\n",
    "manufacturer_grouped_series = (manufacturer_grouped_df['α'] + manufacturer_grouped_df['β'] + manufacturer_grouped_df['γ']).sort_values(ascending=False)\n",
    "sum_by_manufacturer = []\n",
    "for manufacturer in manufacturer_grouped_series.index:\n",
    "\tsum_by_manufacturer.append({\"manufacturer\": manufacturer, \"death_count\": int(manufacturer_grouped_series[manufacturer])})"
   ]
  },
  {
   "cell_type": "code",
   "execution_count": 118,
   "metadata": {},
   "outputs": [],
   "source": [
    "death_summary = {\n",
    "  \"death_summary\": {\n",
    "    \"date\": metadata['commission_of_inquiry_date'],\n",
    "    \"source\": {\n",
    "      \"name\": metadata['source']['name'],\n",
    "      \"url\": metadata['source']['url']\n",
    "    },\n",
    "    \"sum_by_evaluation\": {\n",
    "      \"total\": int(result_series.sum()),\n",
    "      \"alpha\": int(result_series['α']),\n",
    "      \"beta\": int(result_series['β']),\n",
    "      \"gamma\": int(result_series['γ'])\n",
    "    },\n",
    "    \"sum_by_vaccine_name\": sum_by_vaccine_name,\n",
    "\t  \"sum_by_manufacturer\": sum_by_manufacturer\n",
    "  },\n",
    "\t\"death_issues\": {\n",
    "    \"date\": metadata['data_end_date']\n",
    "  }\n",
    "}"
   ]
  },
  {
   "cell_type": "code",
   "execution_count": 119,
   "metadata": {},
   "outputs": [],
   "source": [
    "json_string = json.dumps(death_summary, ensure_ascii=False, indent=2)\n",
    "output_path = os.path.join(output_dir, 'death-summary.json')\n",
    "with open( output_path, \"w\", encoding='utf-8') as f:\n",
    "    f.write(json_string)"
   ]
  }
 ],
 "metadata": {
  "kernelspec": {
   "display_name": "3.12.8",
   "language": "python",
   "name": "python3"
  },
  "language_info": {
   "codemirror_mode": {
    "name": "ipython",
    "version": 3
   },
   "file_extension": ".py",
   "mimetype": "text/x-python",
   "name": "python",
   "nbconvert_exporter": "python",
   "pygments_lexer": "ipython3",
   "version": "3.12.8"
  }
 },
 "nbformat": 4,
 "nbformat_minor": 2
}
