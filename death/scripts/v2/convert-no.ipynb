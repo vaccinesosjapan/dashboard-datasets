{
 "cells": [
  {
   "cell_type": "markdown",
   "metadata": {},
   "source": [
    "# Convert No\n",
    "\n",
    "`No`列に`注1`というような注記が書かれている場合に、注記部分を除去する処理。\n",
    "ただし、事前に表の末尾に記載の注記内容を確認して必要な処理を行ったうえで、この処理を実行すること。"
   ]
  },
  {
   "cell_type": "code",
   "execution_count": 18,
   "metadata": {},
   "outputs": [],
   "source": [
    "import os, re\n",
    "import pandas as pd\n",
    "\n",
    "csv_folder = os.path.join('..', 'intermediate-files')\n",
    "file_id = '001325486'\n",
    "csv_file_name = f'{file_id}-manually2.csv' # sys.argv[1]\n",
    "converted_csv_file_name = f'{file_id}-manually3.csv' # sys.argv[2]\n",
    "\n",
    "csv_file_path = os.path.join(csv_folder, csv_file_name)\n",
    "original_df = pd.read_csv(csv_file_path)\n",
    "df = original_df.copy()"
   ]
  },
  {
   "cell_type": "code",
   "execution_count": 19,
   "metadata": {},
   "outputs": [],
   "source": [
    "# No列が文字列データの場合のみ、「注」の除去やint型への型変換などを行う\n",
    "if pd.api.types.is_string_dtype(df['no'].dtype):\n",
    "\ttarget_series = df[df['no'].str.contains('注')]['no']\n",
    "\tfor index, no_value in target_series.items():\n",
    "\t\tfixed_no = re.sub('注[0-9]*', '', no_value)\n",
    "\t\t#print(f'no: {no_value}, fixed_no: {fixed_no}')\n",
    "\t\tdf.loc[index, 'no'] = fixed_no\n",
    "\tdf['no'] = df['no'].astype(int)"
   ]
  },
  {
   "cell_type": "code",
   "execution_count": 20,
   "metadata": {},
   "outputs": [],
   "source": [
    "df = df.sort_values('no').reset_index(drop=True)"
   ]
  },
  {
   "cell_type": "code",
   "execution_count": 21,
   "metadata": {},
   "outputs": [],
   "source": [
    "# 何回かに分けてageデータをきれいにする\n",
    "## 米印以降を削除\n",
    "def delete_after_asterisk(df, key):\n",
    "\tnot_nan_df = df[df[key].notna()]\n",
    "\tif not_nan_df.empty:\n",
    "\t\treturn\n",
    "\t\n",
    "\tcontains_series = not_nan_df[key].str.contains('※')\n",
    "\tneed_delete_asterisk_series = df.loc[contains_series.index, key]\n",
    "\tfor index, value in need_delete_asterisk_series.items():\n",
    "\t\tvalue = value.replace('\\r\\n', '\\n').replace('\\n', '')\n",
    "\t\tfixed_value = re.sub('※.*', '', value)\n",
    "\t\t#print(f'value: {value}, fixed_value: {fixed_value}')\n",
    "\t\tdf.loc[index, key] = fixed_value"
   ]
  },
  {
   "cell_type": "code",
   "execution_count": 22,
   "metadata": {},
   "outputs": [],
   "source": [
    "## 右矢印がある場合に、右側のデータだけ使う\n",
    "def use_right_side_of_arrow(df, key):\n",
    "\tnot_nan_df = df[df[key].notna()]\n",
    "\tif not_nan_df.empty:\n",
    "\t\treturn\n",
    "\n",
    "\tcontains_series = not_nan_df[key].str.contains('→')\n",
    "\tneed_use_right_side_of_arrow_series = df.loc[contains_series.index, key]\n",
    "\tfor index, value in need_use_right_side_of_arrow_series.items():\n",
    "\t\tvalue = value.replace('\\r\\n', '\\n').replace('\\n', '')\n",
    "\t\tfixed_value = re.sub('（.*', '', value)\n",
    "\n",
    "\t\tsplit_values = fixed_value.split('→')\n",
    "\t\tif len(split_values) > 1:\n",
    "\t\t\tfixed_value = split_values[len(split_values)-1]\n",
    "\n",
    "\t\t#print(f'value: {value}, fixed_value: {fixed_value}')\n",
    "\t\tdf.loc[index, key] = fixed_value"
   ]
  },
  {
   "cell_type": "code",
   "execution_count": 23,
   "metadata": {},
   "outputs": [],
   "source": [
    "delete_after_asterisk(df, 'age')\n",
    "delete_after_asterisk(df, 'vaccinated_date')\n",
    "delete_after_asterisk(df, 'onset_date')\n",
    "delete_after_asterisk(df, 'lot_no')\n",
    "delete_after_asterisk(df, 'vaccinated_times')\n",
    "delete_after_asterisk(df, 'pre_existing_disease_names')\n",
    "delete_after_asterisk(df, 'reported_desc')\n",
    "delete_after_asterisk(df, 'causal_relationship')\n",
    "delete_after_asterisk(df, 'possible_presence_of_other_factors')"
   ]
  },
  {
   "cell_type": "code",
   "execution_count": 24,
   "metadata": {},
   "outputs": [],
   "source": [
    "use_right_side_of_arrow(df, 'age')\n",
    "use_right_side_of_arrow(df, 'vaccinated_date')\n",
    "use_right_side_of_arrow(df, 'onset_date')\n",
    "use_right_side_of_arrow(df, 'lot_no')\n",
    "use_right_side_of_arrow(df, 'vaccinated_times')\n",
    "use_right_side_of_arrow(df, 'pre_existing_disease_names')\n",
    "use_right_side_of_arrow(df, 'reported_desc')\n",
    "use_right_side_of_arrow(df, 'causal_relationship')\n",
    "use_right_side_of_arrow(df, 'possible_presence_of_other_factors')"
   ]
  },
  {
   "cell_type": "code",
   "execution_count": 25,
   "metadata": {},
   "outputs": [],
   "source": [
    "cr_nan_df = df[df['causal_relationship'].isna()]\n",
    "tufd_series = cr_nan_df[cr_nan_df['tests_used_for_determination'].notna()]['tests_used_for_determination']\n",
    "split_tufd = tufd_series.str.split(' ')\n",
    "\n",
    "for index, value in split_tufd.items():\n",
    "\tif len(value) == 2:\n",
    "\t\tdf.loc[index, 'tests_used_for_determination'] = value[0]\n",
    "\t\tdf.loc[index, 'causal_relationship'] = value[1]\n"
   ]
  },
  {
   "cell_type": "code",
   "execution_count": 26,
   "metadata": {},
   "outputs": [],
   "source": [
    "lot_no_nan_df = df[df['lot_no'].isna()]\n",
    "split_onset_date = lot_no_nan_df['onset_date'].str.split(' ')\n",
    "\n",
    "if pd.api.types.is_float_dtype(df['lot_no'].dtype):\n",
    "\tdf['lot_no'] = df['lot_no'].astype(object)\n",
    "\n",
    "for index, value in split_onset_date.items():\n",
    "\tif len(value) == 2:\n",
    "\t\tdf.loc[index, 'onset_date'] = value[0]\n",
    "\t\tdf.loc[index, 'lot_no'] = value[1]\n",
    "\telif len(value) == 3:\n",
    "\t\tdf.loc[index, 'vaccinated_date'] = value[0]\n",
    "\t\tdf.loc[index, 'onset_date'] = value[1]\n",
    "\t\tdf.loc[index, 'lot_no'] = value[2]"
   ]
  },
  {
   "cell_type": "code",
   "execution_count": 27,
   "metadata": {},
   "outputs": [],
   "source": [
    "vd_nan_df = df[df['vaccinated_date'].isna()]\n",
    "split_gender = vd_nan_df['gender'].str.split(' ')\n",
    "\n",
    "for index, value in split_gender.items():\n",
    "\tif len(value) == 2:\n",
    "\t\tdf.loc[index, 'gender'] = value[0]\n",
    "\t\tdf.loc[index, 'vaccinated_date'] = value[1]"
   ]
  },
  {
   "cell_type": "code",
   "execution_count": 28,
   "metadata": {},
   "outputs": [],
   "source": [
    "onset_date_nan_df = df[df['onset_date'].isna()]\n",
    "split_vd = onset_date_nan_df['vaccinated_date'].str.split(' ')\n",
    "\n",
    "for index, value in split_vd.items():\n",
    "\tif len(value) == 2:\n",
    "\t\tdf.loc[index, 'vaccinated_date'] = value[0]\n",
    "\t\tdf.loc[index, 'onset_date'] = value[1]"
   ]
  },
  {
   "cell_type": "code",
   "execution_count": 29,
   "metadata": {},
   "outputs": [],
   "source": [
    "lot_no_nan_df_series = df[df['lot_no'].isna()]['no']\n",
    "if lot_no_nan_df_series.count() > 0:\n",
    "\tprint('以下の項目はロット番号が空のため、手作業で修正が必要です。')\n",
    "\tfor index, no_value in lot_no_nan_df_series.items():\n",
    "\t\tprint(f' - Index {index}, No {no_value}')"
   ]
  },
  {
   "cell_type": "code",
   "execution_count": 30,
   "metadata": {},
   "outputs": [],
   "source": [
    "converted_csv_file_path = os.path.join(csv_folder, converted_csv_file_name)\n",
    "with open(converted_csv_file_path, encoding='utf-8', mode='w') as f:\n",
    "\tf.write(df.to_csv(index=False))"
   ]
  },
  {
   "cell_type": "code",
   "execution_count": 31,
   "metadata": {},
   "outputs": [],
   "source": [
    "## 取り消し線で消して書き直した可能性があるデータを列挙してログ出力\n",
    "need_manually_fix_age_series = df[df['age'].str.contains('基づ')]['age']\n",
    "for index, age_value in need_manually_fix_age_series.items():\n",
    "\tage_value = age_value.replace('\\r\\n', '\\n').replace('\\n', '')\n",
    "\tprint(f'No. {df.loc[index, \"no\"]} の 年齢 {age_value} は取り消し線で訂正されている可能性があります。手作業で修正が必要です。')"
   ]
  },
  {
   "cell_type": "code",
   "execution_count": 32,
   "metadata": {},
   "outputs": [],
   "source": [
    "crbe_nan_series = df[df['causal_relationship_by_expert'].isna()]['no']\n",
    "if not crbe_nan_series.empty:\n",
    "\tprint('以下のデータは causal_relationship_by_expert がNaNです。手作業で修正が必要です。')\n",
    "\tfor index, value in crbe_nan_series.items():\n",
    "\t\tprint(f' - Index: {index}, No: {value}')"
   ]
  },
  {
   "cell_type": "code",
   "execution_count": 33,
   "metadata": {},
   "outputs": [],
   "source": [
    "def remove_empty_lines(source_path, target_path):\n",
    "    fixed_data = ''\n",
    "    with open(source_path, encoding=\"utf-8\") as f:\n",
    "        for line in f:\n",
    "            if line.isspace():\n",
    "                continue\n",
    "            if line.startswith('0,1,2,3,4,5'):\n",
    "                continue\n",
    "            if line.startswith(','):\n",
    "                line = re.sub('^,', '', line)\n",
    "            fixed_data += line\n",
    "\n",
    "    with open(target_path, \"w\", encoding=\"utf-8\") as f:\n",
    "        f.write(fixed_data)"
   ]
  },
  {
   "cell_type": "code",
   "execution_count": 34,
   "metadata": {},
   "outputs": [],
   "source": [
    "remove_empty_lines(converted_csv_file_path, converted_csv_file_path)"
   ]
  }
 ],
 "metadata": {
  "kernelspec": {
   "display_name": "3.12.8",
   "language": "python",
   "name": "python3"
  },
  "language_info": {
   "codemirror_mode": {
    "name": "ipython",
    "version": 3
   },
   "file_extension": ".py",
   "mimetype": "text/x-python",
   "name": "python",
   "nbconvert_exporter": "python",
   "pygments_lexer": "ipython3",
   "version": "3.12.8"
  }
 },
 "nbformat": 4,
 "nbformat_minor": 2
}
