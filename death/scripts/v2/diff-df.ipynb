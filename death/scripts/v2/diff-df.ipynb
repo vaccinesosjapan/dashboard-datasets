{
 "cells": [
  {
   "cell_type": "markdown",
   "metadata": {},
   "source": [
    "# Diff DataFrame\n",
    "\n",
    "手作業した時などに、「なぜか想定の症例件数と違う件数になってしまった・・」という状況に陥るかもしれない。\n",
    "そういう時に、2つのcsvを読み込んで`DataFrame`の比較をすると良いのではと考えた。"
   ]
  },
  {
   "cell_type": "code",
   "execution_count": 1,
   "metadata": {},
   "outputs": [],
   "source": [
    "import os, re\n",
    "import pandas as pd\n",
    "\n",
    "csv_folder = os.path.join('..', 'intermediate-files')\n",
    "csv_file_name1 = '001325481-converted.csv'\n",
    "csv_file_name2 = '001325481-manually2.csv'\n",
    "\n",
    "csv_file_path1 = os.path.join(csv_folder, csv_file_name1)\n",
    "csv_file_path2 = os.path.join(csv_folder, csv_file_name2)\n",
    "\n",
    "original_df1 = pd.read_csv(csv_file_path1)\n",
    "original_df2 = pd.read_csv(csv_file_path2)"
   ]
  },
  {
   "cell_type": "code",
   "execution_count": 2,
   "metadata": {},
   "outputs": [],
   "source": [
    "diff_df = pd.merge(original_df1, original_df2, on=[\"no\"], how='outer', indicator=True)"
   ]
  },
  {
   "cell_type": "code",
   "execution_count": 3,
   "metadata": {},
   "outputs": [],
   "source": [
    "diff_df2 = diff_df[diff_df['_merge'] != 'both']"
   ]
  },
  {
   "cell_type": "markdown",
   "metadata": {},
   "source": [
    "`diff_df2`の内容を確認して、誤って削除したデータが無いか確認する。\n",
    "差分に特に問題な無いようであれば、元データなども確認してみよう。（`original_df1`, `original_df2`）\n",
    "`Data Wrangler`で確認する際、列ヘッダをクリックすると統計データが表示されて、もしも重複データがある場合には「頻度 2」というように表示されるので便利。"
   ]
  }
 ],
 "metadata": {
  "kernelspec": {
   "display_name": "3.12.8",
   "language": "python",
   "name": "python3"
  },
  "language_info": {
   "codemirror_mode": {
    "name": "ipython",
    "version": 3
   },
   "file_extension": ".py",
   "mimetype": "text/x-python",
   "name": "python",
   "nbconvert_exporter": "python",
   "pygments_lexer": "ipython3",
   "version": "3.12.8"
  }
 },
 "nbformat": 4,
 "nbformat_minor": 2
}
