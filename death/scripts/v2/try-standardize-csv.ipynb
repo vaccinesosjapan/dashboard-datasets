{
 "cells": [
  {
   "cell_type": "code",
   "execution_count": null,
   "metadata": {},
   "outputs": [],
   "source": [
    "import os, re, math, sys\n",
    "import pandas as pd\n",
    "from distutils.util import strtobool\n",
    "\n",
    "# スクリプトへエクスポートした際に、必要に応じてパスの更新が必要な情報\n",
    "csv_folder = os.path.join('..', '..','intermediate-files')\n",
    "csv_file_name = '001475611-pre.csv' # sys.argv[1]\n",
    "manufacturer = 'ファイザー' # sys.argv[2]\n",
    "vaccine_name = 'コミナティ筋注シリンジ12歳以上用' # sys.argv[3]\n",
    "\n",
    "csv_file_path = os.path.join(csv_folder, csv_file_name)\n",
    "original_df = pd.read_csv(csv_file_path)"
   ]
  },
  {
   "cell_type": "code",
   "execution_count": null,
   "metadata": {},
   "outputs": [],
   "source": [
    "# 列の調整。PDFから読み取った内容によっては列の数などが変動して、ここの処理を変える必要があるかも。\n",
    "df = original_df.copy()\n",
    "\n",
    "# 第106回のデータ対応\n",
    "columns = ['no', 'vaccine_name', 'lot_no', 'age', 'gender','pre_existing_conditions', 'vaccinated_dates', 'onset_dates', 'PT_names', 'causal_relationship', 'causal_relationship_by_expert', 'comments_by_expert', 'reported_date', 'goudou_reported_date', 'goudou_evaluated_date']\n",
    "df.columns = columns\n",
    "\n",
    "# 後半の「死亡症例として報告を受けた日付」、「合同部会報告日」、「合同部会評価日」は使用しないため削除する\n",
    "df = df.drop(['reported_date', 'goudou_reported_date', 'goudou_evaluated_date'], axis=1)\n",
    "\n",
    "# 元の症例一覧に含まれない「製造販売業者」列などを追加する。\n",
    "df.insert(1, column='manufacturer', value=manufacturer)\n",
    "df.insert(2, column='vaccinated_times', value='')\n",
    "df.insert(3, column='tests_used_for_determination', value='')\n",
    "\n",
    "# 最終的にデータ化する時のために列の並べ替えをやっておく。\n",
    "df = df.reindex(columns=['no', 'vaccine_name', 'age', 'gender', 'vaccinated_dates', 'onset_dates', 'lot_no', 'vaccinated_times', 'pre_existing_conditions', 'PT_names', 'tests_used_for_determination', 'causal_relationship', 'causal_relationship_by_expert', 'comments_by_expert'])"
   ]
  },
  {
   "cell_type": "code",
   "execution_count": null,
   "metadata": {},
   "outputs": [],
   "source": [
    "# No列に値が入った行だけを抽出する。\n",
    "# このインデックスからインデックスの間に、PT_namesのデータが行に分かれて入っているので、マージする。\n",
    "number_df = df[df['no'].notna()]\n",
    "\n",
    "# またnumber_dfのcausal_relationship_by_expert列がNaNになっているデータは、表の形が崩れていて他の\n",
    "# データも後の行に分散してしまっているデータと思われるので、手作業で修正するようログを残す。\n",
    "need_manually_fix_df = number_df[number_df['causal_relationship_by_expert'].isna()]\n",
    "if not need_manually_fix_df.empty:\n",
    "\tprint('以下のデータは、後続の行にデータが分散していると思われます。手作業で修正してください。')\n",
    "\tfor index, row in need_manually_fix_df.iterrows():\n",
    "\t\tnumber = f'{row[\"no\"]}'.replace('\\r\\n', '\\n').replace('\\n', '')\n",
    "\t\tprint(f'- Index: {index}, No: {number}')\n",
    "\tprint()"
   ]
  },
  {
   "cell_type": "code",
   "execution_count": null,
   "metadata": {},
   "outputs": [],
   "source": [
    "# マージした行のインデックスを保持して後ほどdrop処理に使う\n",
    "merged_index = []\n",
    "\n",
    "previous_index = 0\n",
    "for index, _ in number_df.iterrows():\n",
    "\tif index == 0: continue\n",
    "\n",
    "\tif previous_index in need_manually_fix_df.index:\n",
    "\t\tprint(f'Index {previous_index} は手作業の対象のためマージ処理をスキップします。')\n",
    "\telif index - 1 > previous_index:\n",
    "\t\t# マージが必要な行が previous_index+1 から index-1 までのインデックスに存在する\n",
    "\t\tpt_names = []\n",
    "\t\tsub_index = previous_index+1\n",
    "\t\twhile sub_index < index:\n",
    "\t\t\tpt_names.append(df.loc[sub_index, 'reported_desc'])\n",
    "\t\t\tmerged_index.append(sub_index)\n",
    "\t\t\tsub_index += 1\n",
    "\t\tnumber_df.at[previous_index, 'PT_names'] = pt_names\n",
    "\telse:\n",
    "\t\t# マージ不要なケース、PT_namesの内容を配列に変更する\n",
    "\t\tpt_name = number_df.loc[previous_index, 'PT_names']\n",
    "\t\tif type(pt_name) == float:\n",
    "\t\t\tnumber_value = f'{number_df.loc[previous_index, \"no\"]}'.replace('\\r\\n', '\\n').replace('\\n', '')\n",
    "\t\t\tif math.isnan(pt_name):\n",
    "\t\t\t\tprint(f'Index {previous_index}, No {number_value} は、PT_namesがNanです。手作業による修正が必要です。')\n",
    "\t\t\telse:\n",
    "\t\t\t\tprint(f'Index {previous_index}, No {number_value} は、PT_namesがfloatです。手作業による修正が必要です。')\n",
    "\t\telse:\n",
    "\t\t\tpt_names = pt_name.replace('\\r\\n', '\\n').split('\\n')\n",
    "\t\t\tnumber_df.at[previous_index, 'PT_names'] = pt_names\n",
    "\n",
    "\tprevious_index = index"
   ]
  },
  {
   "cell_type": "code",
   "execution_count": null,
   "metadata": {},
   "outputs": [],
   "source": [
    "# 最後の行も処理する。\n",
    "# previous_indexにはnumber_dfの最後のインデックスが格納された状態でここに来るので、\n",
    "\n",
    "# dfの最後のインデックス。\n",
    "# previous_indexよりもlast_indexの方が大きい数字の場合、マージ処理の要否を確認しながら処理が必要。\n",
    "last_index = df.shape[0] - 1\n",
    "\n",
    "if previous_index in need_manually_fix_df.index:\n",
    "\tprint(f'Index {previous_index} は手作業の対象のためマージ処理をスキップします。')\n",
    "elif last_index > previous_index:\n",
    "\t# マージが必要な行が previous_index+1 から last_index までのインデックスに存在する\n",
    "\tpt_names = []\n",
    "\tsub_index = previous_index+1\n",
    "\twhile sub_index <= last_index:\n",
    "\t\tpt_names.append(df.loc[sub_index, 'reported_desc'])\n",
    "\t\tmerged_index.append(sub_index)\n",
    "\t\tsub_index += 1\n",
    "\tnumber_df.at[previous_index, 'PT_names'] = pt_names\n",
    "else:\n",
    "\t# マージ不要なケース、PT_namesの内容を配列に変更する\n",
    "\tpt_name = number_df.loc[previous_index, 'PT_names']\n",
    "\tif type(pt_name) == float:\n",
    "\t\tnumber_value = f'{number_df.loc[previous_index, \"no\"]}'.replace('\\r\\n', '\\n').replace('\\n', '')\n",
    "\t\tif math.isnan(pt_name):\n",
    "\t\t\tprint(f'Index {previous_index}, No {number_value} は、PT_namesがNanです。手作業による修正が必要です。')\n",
    "\t\telse:\n",
    "\t\t\tprint(f'Index {previous_index}, No {number_value} は、PT_namesがfloatです。手作業による修正が必要です。')\n",
    "\telse:\n",
    "\t\tpt_names = pt_name.replace('\\r\\n', '\\n').split('\\n')\n",
    "\t\tnumber_df.at[previous_index, 'PT_names'] = pt_names"
   ]
  },
  {
   "cell_type": "code",
   "execution_count": null,
   "metadata": {},
   "outputs": [],
   "source": [
    "fixed_df = df.drop(merged_index)"
   ]
  },
  {
   "cell_type": "code",
   "execution_count": null,
   "metadata": {},
   "outputs": [],
   "source": [
    "float_no_series = pd.to_numeric(fixed_df['no'], errors='coerce')\n",
    "no_nan_series = float_no_series[float_no_series.isna()]\n",
    "if no_nan_series.count() > 0:\n",
    "\tprint('以下のデータは、No列の値を数値に変換できません。手作業で修正してください。')\n",
    "\tfor index in no_nan_series.index:\n",
    "\t\tno_value = f'{fixed_df.loc[index, \"no\"]}'.replace('\\r\\n', '\\n').replace('\\n', '')\n",
    "\t\tprint(f'Index: {index}, No: \"{no_value}\"')\n",
    "\n",
    "int_no_series = float_no_series[float_no_series.notna()].astype(int)\n",
    "fixed_df.loc[int_no_series.index, 'no'] = int_no_series"
   ]
  },
  {
   "cell_type": "code",
   "execution_count": null,
   "metadata": {},
   "outputs": [],
   "source": [
    "fixed_df.loc[number_df.index, 'PT_names'] = number_df['PT_names']"
   ]
  },
  {
   "cell_type": "code",
   "execution_count": null,
   "metadata": {},
   "outputs": [],
   "source": [
    "# ageとgender列が、うまく分離できていないケースを処理する。\n",
    "\n",
    "## age 列が NaN になってるケース。半角スペース区切りで gender 列にデータが入っている場合があるので抽出を試行\n",
    "age_nan_df = fixed_df[fixed_df['age'].isna()]\n",
    "extracted_from_gender_df = age_nan_df['gender'].str.split(' ', expand=True)\n",
    "## gender 列が NaN になってるケース。半角スペース区切りで age 列にデータが入っている場合があるので抽出を試行\n",
    "gender_nan_df = fixed_df[fixed_df['gender'].isna()]\n",
    "gender_nan_df['age'] = gender_nan_df['age'].astype(str)\n",
    "extracted_from_age_df = gender_nan_df['age'].str.split(' ', expand=True)\n",
    "\n",
    "## 先に dtype を変更しておかないと警告がでたりするので、先に処理する\n",
    "fixed_df['age'] = fixed_df['age'].astype(str)\n",
    "fixed_df['gender'] = fixed_df['gender'].astype(str)\n",
    "\n",
    "if len(extracted_from_gender_df.columns) == 2:\n",
    "\textracted_from_gender_df.columns = ['age', 'gender']\n",
    "\tfixed_df.loc[extracted_from_gender_df.index, 'age'] = extracted_from_gender_df['age']\n",
    "\tfixed_df.loc[extracted_from_gender_df.index, 'gender'] = extracted_from_gender_df['gender']\n",
    "\n",
    "if len(extracted_from_age_df.columns) == 2:\n",
    "\textracted_from_age_df.columns = ['age', 'gender']\n",
    "\tfixed_df.loc[extracted_from_age_df.index, 'age'] = extracted_from_age_df['age']\n",
    "\tfixed_df.loc[extracted_from_age_df.index, 'gender'] = extracted_from_age_df['gender']"
   ]
  },
  {
   "cell_type": "code",
   "execution_count": null,
   "metadata": {},
   "outputs": [],
   "source": [
    "if fixed_df['vaccinated_dates'].dtype != type(str):\n",
    "\tfixed_df['vaccinated_dates'] = fixed_df['vaccinated_dates'].map('{:.0f}'.format).fillna('')\n",
    "\tfixed_df['vaccinated_dates'] = fixed_df['vaccinated_dates'].astype(str)"
   ]
  },
  {
   "cell_type": "code",
   "execution_count": null,
   "metadata": {},
   "outputs": [],
   "source": [
    "# vaccinated_dates が 20241211 のように8桁の数字で表現されているデータを見つけて 2024/12/11 というフォーマットの文字列にしたい\n",
    "target_vd_df = fixed_df[fixed_df['vaccinated_dates'].str.len() == 8]\n",
    "not_target_vd_df = fixed_df[fixed_df['vaccinated_dates'].str.len() != 8]\n",
    "\n",
    "if not target_vd_df.empty:\n",
    "\tfixed_df.loc[target_vd_df.index, 'vaccinated_dates'] = target_vd_df['vaccinated_dates'].map(lambda x: pd.to_datetime(x).strftime(\"%Y/%m/%d\"))\n",
    "\n",
    "if not not_target_vd_df.empty:\n",
    "\tprint(\"以下のデータについては、vaccinated_dates 列の日付データに関して手動で調整が必要です。\")\n",
    "\tfor index, row in not_target_vd_df.iterrows():\n",
    "\t\tprint(f' - No. {row.no} (Index: {index})')\n",
    "\tprint()"
   ]
  },
  {
   "cell_type": "code",
   "execution_count": null,
   "metadata": {},
   "outputs": [],
   "source": [
    "# onset_dates が 20241211 のように8桁の数字で表現されているデータを見つけて 2024/12/11 というフォーマットの文字列にしたい\n",
    "target_od_df = fixed_df[fixed_df['onset_dates'].str.len() == 8]\n",
    "not_target_od_df = fixed_df[fixed_df['onset_dates'].str.len() != 8]\n",
    "\n",
    "if not target_od_df.empty:\n",
    "\tfixed_df.loc[target_od_df.index, 'onset_dates'] = target_od_df['onset_dates'].map(lambda x: pd.to_datetime(x).strftime(\"%Y/%m/%d\"))\n",
    "\n",
    "if not not_target_od_df.empty:\n",
    "\tprint(\"以下のデータについては、onset_dates 列の日付データに関して手動で調整が必要です。\")\n",
    "\tfor index, row in not_target_od_df.iterrows():\n",
    "\t\tprint(f' - No. {row.no} (Index: {index})')\n",
    "\tprint()"
   ]
  },
  {
   "cell_type": "code",
   "execution_count": null,
   "metadata": {},
   "outputs": [],
   "source": [
    "csv_file_name_without_ext = os.path.splitext(csv_file_name)[0].replace('-pre', '-converted')\n",
    "csv_file_path = os.path.join(csv_folder, f'{csv_file_name_without_ext}.csv')\n",
    "with open(csv_file_path, encoding='utf-8', mode='w') as f:\n",
    "\tf.write(fixed_df.to_csv(index=False))"
   ]
  },
  {
   "cell_type": "code",
   "execution_count": null,
   "metadata": {},
   "outputs": [],
   "source": [
    "def remove_empty_lines(source_path, target_path):\n",
    "    fixed_data = ''\n",
    "    with open(source_path, encoding=\"utf-8\") as f:\n",
    "        for line in f:\n",
    "            if line.isspace():\n",
    "                continue\n",
    "            if line.startswith('0,1,2,3,4,5'):\n",
    "                continue\n",
    "            if line.startswith(','):\n",
    "                line = re.sub('^,', '', line)\n",
    "            fixed_data += line\n",
    "\n",
    "    with open(target_path, \"w\", encoding=\"utf-8\") as f:\n",
    "        f.write(fixed_data)\n"
   ]
  },
  {
   "cell_type": "code",
   "execution_count": null,
   "metadata": {},
   "outputs": [],
   "source": [
    "remove_empty_lines(csv_file_path, csv_file_path)"
   ]
  },
  {
   "cell_type": "code",
   "execution_count": null,
   "metadata": {},
   "outputs": [],
   "source": [
    "print(f'{csv_file_path} に抽出結果を保存しました。')"
   ]
  }
 ],
 "metadata": {
  "kernelspec": {
   "display_name": "3.12.8",
   "language": "python",
   "name": "python3"
  },
  "language_info": {
   "codemirror_mode": {
    "name": "ipython",
    "version": 3
   },
   "file_extension": ".py",
   "mimetype": "text/x-python",
   "name": "python",
   "nbconvert_exporter": "python",
   "pygments_lexer": "ipython3",
   "version": "3.12.8"
  }
 },
 "nbformat": 4,
 "nbformat_minor": 2
}
