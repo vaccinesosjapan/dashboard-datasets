{
 "cells": [
  {
   "cell_type": "code",
   "execution_count": null,
   "metadata": {},
   "outputs": [],
   "source": [
    "import os, unicodedata, json\n",
    "import pandas as pd\n",
    "from numpy import dtype\n",
    "import ast\n",
    "\n",
    "# スクリプトをエクスポートした際に調整が必要な各種パス情報\n",
    "csv_folder = os.path.join('..', '..', 'intermediate-files')\n",
    "csv_file_name = '001475611-manually-fixed.csv' # sys.argv[1]\n",
    "expected_issue_count = int('11') # int(sys.argv[2])\n",
    "json_folder = os.path.join('..', '..', 'reports-data')\n",
    "json_file_name = '001475611.json' # sys.argv[3]\n",
    "\n",
    "csv_file_path = os.path.join(csv_folder, csv_file_name)\n",
    "df = pd.read_csv(csv_file_path, delimiter=',')"
   ]
  },
  {
   "cell_type": "code",
   "execution_count": null,
   "metadata": {},
   "outputs": [],
   "source": [
    "# このあとの各種処理をしやすくするため、NaNは空文字列に置換しておく。\n",
    "df = df.fillna('')"
   ]
  },
  {
   "cell_type": "code",
   "execution_count": null,
   "metadata": {},
   "outputs": [],
   "source": [
    "if df['age'].dtype == dtype('int64'):\n",
    "\tprint('age 列の dtype が int64 のため処理不要なようです。')\n",
    "else:\n",
    "\t# age 列に関して、「歳」を除去すれば年齢を数字に変換できるセルだけ処理する\n",
    "\tage_is_number_df = df[df['age'].map(lambda x: x.replace('歳', '').isdecimal())]\n",
    "\tage_is_number_df.loc[:, 'age'] = age_is_number_df['age'].map(lambda x: int(x.replace('歳', '')))\n",
    "\tdf.loc[age_is_number_df.index, 'age'] = age_is_number_df"
   ]
  },
  {
   "cell_type": "code",
   "execution_count": null,
   "metadata": {},
   "outputs": [],
   "source": [
    "# ワクチン名に全角の数字が含まれていて検索が困難にあるなど弊害があるため、大文字小文字などの違いも対象に正規化\n",
    "df.loc[:, 'vaccine_name'] = df['vaccine_name'].map(lambda x: unicodedata.normalize(\"NFKC\", x))"
   ]
  },
  {
   "cell_type": "code",
   "execution_count": null,
   "metadata": {},
   "outputs": [],
   "source": [
    "result_issue_count = df.shape[0]\n",
    "if result_issue_count != expected_issue_count:\n",
    "\tprint(f'[Warning] {expected_issue_count} 件のデータのはずが、{result_issue_count} 件のデータになりました。')\n",
    "\tprint('手作業時のデータ構造や想定件数の確認が必要と思われます。')\n",
    "\tprint()"
   ]
  },
  {
   "cell_type": "code",
   "execution_count": null,
   "metadata": {},
   "outputs": [],
   "source": [
    "df['id'] = df['vaccine_name'].str.cat(df['no'].astype(str), sep='-')"
   ]
  },
  {
   "cell_type": "code",
   "execution_count": null,
   "metadata": {},
   "outputs": [],
   "source": [
    "fixed_df = df.copy()\n",
    "\n",
    "# PT_namesには、 \"['A, 'B', 'C']\" というような文字列が入ってしまっているので、astを使って配列として取り出す\n",
    "fixed_df.loc[:, 'PT_names'] = fixed_df['PT_names'].map(lambda x: ast.literal_eval(x))"
   ]
  },
  {
   "cell_type": "code",
   "execution_count": null,
   "metadata": {},
   "outputs": [],
   "source": [
    "if not 'vaccinated_times' in fixed_df.columns:\n",
    "\tlot_no_column_index = fixed_df.columns.get_loc('lot_no')\n",
    "\tfixed_df.insert(lot_no_column_index + 1, 'vaccinated_times', '')"
   ]
  },
  {
   "cell_type": "code",
   "execution_count": null,
   "metadata": {},
   "outputs": [],
   "source": [
    "# 日付のスラッシュがエスケープされないようにするため、json.dumpsを使って文字列化する\n",
    "df_dict = fixed_df.to_dict(\"records\")\n",
    "df_string = json.dumps(df_dict, ensure_ascii=False, indent=2)\n",
    "\n",
    "json_file_path = os.path.join(json_folder, json_file_name)\n",
    "with open(json_file_path, encoding='utf-8', mode='w') as f:\n",
    "\tf.write(df_string)\n",
    "\n",
    "print(f'{json_file_path} にJSON形式で保存しました。')"
   ]
  }
 ],
 "metadata": {
  "kernelspec": {
   "display_name": "3.12.8",
   "language": "python",
   "name": "python3"
  },
  "language_info": {
   "codemirror_mode": {
    "name": "ipython",
    "version": 3
   },
   "file_extension": ".py",
   "mimetype": "text/x-python",
   "name": "python",
   "nbconvert_exporter": "python",
   "pygments_lexer": "ipython3",
   "version": "3.12.8"
  }
 },
 "nbformat": 4,
 "nbformat_minor": 2
}
