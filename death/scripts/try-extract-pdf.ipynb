{
 "cells": [
  {
   "cell_type": "code",
   "execution_count": null,
   "metadata": {},
   "outputs": [
    {
     "name": "stdout",
     "output_type": "stream",
     "text": [
      "抽出できたtableの数は 10\n"
     ]
    }
   ],
   "source": [
    "import os, typing, re, sys\n",
    "import pandas as pd\n",
    "import camelot\n",
    "\n",
    "# スクリプトへとエクスポートした際に調整が必要な各種パス情報\n",
    "pdf_dir_path = os.path.join('..', 'pdf-files')\n",
    "csv_dir_path = os.path.join('..', 'intermediate-files')\n",
    "pdf_file_name = '001320852.pdf' # sys.argv[1]\n",
    "pages = '2-11' # sys.argv[2]"
   ]
  },
  {
   "cell_type": "code",
   "execution_count": null,
   "metadata": {},
   "outputs": [],
   "source": [
    "pdf_file_path = os.path.join(pdf_dir_path, pdf_file_name)\n",
    "tables = camelot.read_pdf(pdf_file_path, pages=pages, encoding='utf-8')\n",
    "\n",
    "print(f\"抽出したtable数: {len(tables)}\")"
   ]
  },
  {
   "cell_type": "code",
   "execution_count": 5,
   "metadata": {},
   "outputs": [],
   "source": [
    "merged_df = pd.DataFrame()\n",
    "for index, table in enumerate(tables):\n",
    "\tif index == 0:\n",
    "\t\tmerged_df = typing.cast(pd.DataFrame, table.df)\n",
    "\telse:\n",
    "\t\tdf = typing.cast(pd.DataFrame, table.df)\n",
    "\t\tmerged_df = pd.merge(merged_df, df, how='outer')\n",
    "\n",
    "csv_data = merged_df.to_csv(index=False)"
   ]
  },
  {
   "cell_type": "code",
   "execution_count": 6,
   "metadata": {},
   "outputs": [],
   "source": [
    "pdf_file_name_without_ext = os.path.splitext(pdf_file_name)[0]\n",
    "csv_file_path = os.path.join(csv_dir_path, f'{pdf_file_name_without_ext}.csv')\n",
    "with open(csv_file_path, \"w\", encoding='utf-8') as f:\n",
    "\tf.write(csv_data)"
   ]
  },
  {
   "cell_type": "code",
   "execution_count": 7,
   "metadata": {},
   "outputs": [
    {
     "data": {
      "text/plain": [
       "87"
      ]
     },
     "execution_count": 7,
     "metadata": {},
     "output_type": "execute_result"
    }
   ],
   "source": [
    "print(f'マージしたDataFrameの行数: {merged_df.shape[0]}')"
   ]
  },
  {
   "cell_type": "code",
   "execution_count": 8,
   "metadata": {},
   "outputs": [],
   "source": [
    "def remove_empty_lines(source_path, target_path):\n",
    "    fixed_data = ''\n",
    "    with open(source_path, encoding=\"utf-8\") as f:\n",
    "        for line in f:\n",
    "            if line.isspace():\n",
    "                continue\n",
    "            if line.startswith('0,1,2,3,4,5'):\n",
    "                continue\n",
    "            if line.startswith(','):\n",
    "                line = re.sub('^,', '', line)\n",
    "            fixed_data += line\n",
    "\n",
    "    with open(target_path, \"w\", encoding=\"utf-8\") as f:\n",
    "        f.write(fixed_data)\n",
    "\n",
    "remove_empty_lines(csv_file_path, csv_file_path)"
   ]
  },
  {
   "cell_type": "code",
   "execution_count": null,
   "metadata": {},
   "outputs": [],
   "source": [
    "print(f'{csv_file_path} に抽出結果を保存しました。')"
   ]
  }
 ],
 "metadata": {
  "kernelspec": {
   "display_name": "Python 3",
   "language": "python",
   "name": "python3"
  },
  "language_info": {
   "codemirror_mode": {
    "name": "ipython",
    "version": 3
   },
   "file_extension": ".py",
   "mimetype": "text/x-python",
   "name": "python",
   "nbconvert_exporter": "python",
   "pygments_lexer": "ipython3",
   "version": "3.8.10"
  }
 },
 "nbformat": 4,
 "nbformat_minor": 2
}
