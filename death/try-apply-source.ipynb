{
 "cells": [
  {
   "cell_type": "code",
   "execution_count": 5,
   "id": "79f1fd2e",
   "metadata": {},
   "outputs": [],
   "source": [
    "import glob, re, json, unicodedata\n",
    "import pandas as pd\n",
    "\n",
    "death_table_df = pd.read_csv('death-table.csv')"
   ]
  },
  {
   "cell_type": "code",
   "execution_count": 6,
   "id": "eba78ac6",
   "metadata": {},
   "outputs": [],
   "source": [
    "json_file_list = glob.glob('reports-data/*.json')\n",
    "re_reports_file_name = re.compile(r'^(\\d+)[\\-\\.]')\n",
    "\n",
    "for json_path in json_file_list:\n",
    "\tmatched = re_reports_file_name.search(json_path.replace('reports-data/', ''))\n",
    "\tmatched_row_df = death_table_df[death_table_df['PDFファイル名'] == int(matched.group(1))].head(1).reset_index()\n",
    "\n",
    "\twith open(json_path, \"r\", encoding='utf-8') as f:\n",
    "\t\tdata = json.load(f)\n",
    "\t\teach_df = pd.DataFrame(data)\n",
    "\n",
    "\t\tsource_array = [{ \"name\": matched_row_df.loc[0, '開催回'], \"url\": matched_row_df.loc[0, 'URL'] }] * each_df.shape[0]\n",
    "\t\teach_df['source'] = source_array\n",
    "\t\tordinary_number = matched_row_df.loc[0, '開催回'].replace('第', '').replace('回', '')\n",
    "\t\teach_df['no'] = each_df['no'].astype(str)\n",
    "\t\teach_df['id'] = ordinary_number + '-' + unicodedata.normalize(\"NFKC\", matched_row_df.loc[0, 'ワクチン名']) + '-' + each_df['no']\n",
    "\t\teach_df['no'] = each_df['no'].astype(int)\n",
    "\n",
    "\t\teach_df_dict = each_df.to_dict(\"records\")\n",
    "\t\teach_df_string = json.dumps(each_df_dict, ensure_ascii=False, indent=2)\n",
    "\n",
    "\twith open(json_path, \"w\", encoding='utf-8') as f:\n",
    "\t\tf.write(each_df_string)\n"
   ]
  }
 ],
 "metadata": {
  "kernelspec": {
   "display_name": "3.12.8",
   "language": "python",
   "name": "python3"
  },
  "language_info": {
   "codemirror_mode": {
    "name": "ipython",
    "version": 3
   },
   "file_extension": ".py",
   "mimetype": "text/x-python",
   "name": "python",
   "nbconvert_exporter": "python",
   "pygments_lexer": "ipython3",
   "version": "3.12.8"
  }
 },
 "nbformat": 4,
 "nbformat_minor": 5
}
