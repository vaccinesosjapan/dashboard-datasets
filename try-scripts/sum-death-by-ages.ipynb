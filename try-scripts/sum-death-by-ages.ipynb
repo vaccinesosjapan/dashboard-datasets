{
 "cells": [
  {
   "cell_type": "code",
   "execution_count": null,
   "metadata": {},
   "outputs": [],
   "source": [
    "import json, os\n",
    "import pandas as pd\n",
    "\n",
    "json_file_path = os.path.join('../_datasets', 'death-reports.json')\n",
    "with open(json_file_path, encoding='utf-8') as f:\n",
    "    d = json.load(f)\n",
    "df = pd.json_normalize(d)\n",
    "df"
   ]
  },
  {
   "cell_type": "code",
   "execution_count": null,
   "metadata": {},
   "outputs": [],
   "source": [
    "df['age'] = df['age'].map(lambda x: str(x).replace('歳代','').replace('歳','').replace('代',''))\n",
    "df"
   ]
  },
  {
   "cell_type": "code",
   "execution_count": null,
   "metadata": {},
   "outputs": [],
   "source": [
    "df = df[[\"age\", \"causal_relationship_by_expert\"]]\n",
    "df = df[df['causal_relationship_by_expert'] != 'β']\n",
    "df"
   ]
  },
  {
   "cell_type": "code",
   "execution_count": null,
   "metadata": {},
   "outputs": [],
   "source": [
    "unknown_ages = df[~df['age'].str.isdecimal()]\n",
    "print(f'年代不明なデータは {unknown_ages.shape[0]} 件')\n",
    "unknown_ages"
   ]
  },
  {
   "cell_type": "code",
   "execution_count": null,
   "metadata": {},
   "outputs": [],
   "source": [
    "df = df[df['age'].str.isdecimal()]\n",
    "df = df.drop(columns=['causal_relationship_by_expert'])\n",
    "print(f'年代が判別可能なデータは {df.shape[0]} 件')\n",
    "df"
   ]
  },
  {
   "cell_type": "code",
   "execution_count": 26,
   "metadata": {},
   "outputs": [],
   "source": [
    "df['age'] = df['age'].astype(int)"
   ]
  },
  {
   "cell_type": "code",
   "execution_count": null,
   "metadata": {},
   "outputs": [],
   "source": [
    "import math\n",
    "df['generation']=df['age'].apply(lambda x:math.floor(x/10)*10)\n",
    "df['count']=1\n",
    "df = df.drop(columns=['age'])\n",
    "df"
   ]
  },
  {
   "cell_type": "code",
   "execution_count": null,
   "metadata": {},
   "outputs": [],
   "source": [
    "aged_df = df.groupby('generation').sum()\n",
    "aged_df = aged_df.reset_index()\n",
    "aged_df"
   ]
  },
  {
   "cell_type": "code",
   "execution_count": null,
   "metadata": {},
   "outputs": [],
   "source": [
    "aged_df['generation'] = aged_df['generation'].map(lambda x: str(x) + '代')\n",
    "aged_df"
   ]
  },
  {
   "cell_type": "code",
   "execution_count": null,
   "metadata": {},
   "outputs": [],
   "source": [
    "aged_df.to_dict(orient='records')"
   ]
  },
  {
   "cell_type": "markdown",
   "metadata": {},
   "source": [
    "## 変更点\n",
    "\n",
    "データの修正により8件が年代を判別可能になった。\n",
    "これにより、不明が51件から43件に減った。\n"
   ]
  }
 ],
 "metadata": {
  "kernelspec": {
   "display_name": "Python 3",
   "language": "python",
   "name": "python3"
  },
  "language_info": {
   "codemirror_mode": {
    "name": "ipython",
    "version": 3
   },
   "file_extension": ".py",
   "mimetype": "text/x-python",
   "name": "python",
   "nbconvert_exporter": "python",
   "pygments_lexer": "ipython3",
   "version": "3.8.10"
  }
 },
 "nbformat": 4,
 "nbformat_minor": 2
}
