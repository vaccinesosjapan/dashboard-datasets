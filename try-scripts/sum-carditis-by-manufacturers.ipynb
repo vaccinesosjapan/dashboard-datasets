{
 "cells": [
  {
   "cell_type": "code",
   "execution_count": null,
   "metadata": {},
   "outputs": [],
   "source": [
    "import yaml, os\n",
    "import pandas as pd\n",
    "\n",
    "metadata_path = os.path.join(\"../carditis\", \"metadata.yaml\")\n",
    "with open(metadata_path, \"r\", encoding='utf-8') as f:\n",
    "    metadata_root = yaml.safe_load(f) \n",
    "metadata = metadata_root['metadata']\n",
    "expected_issues = metadata['expected_issues']\n",
    "expected_issues"
   ]
  },
  {
   "cell_type": "code",
   "execution_count": null,
   "metadata": {},
   "outputs": [],
   "source": [
    "pd.DataFrame(expected_issues)"
   ]
  },
  {
   "cell_type": "code",
   "execution_count": null,
   "metadata": {},
   "outputs": [],
   "source": [
    "pd.json_normalize(expected_issues)"
   ]
  },
  {
   "cell_type": "code",
   "execution_count": null,
   "metadata": {},
   "outputs": [],
   "source": [
    "df_m = pd.json_normalize(expected_issues, meta='manufacturer', record_path='myocarditis')\n",
    "df_m"
   ]
  },
  {
   "cell_type": "code",
   "execution_count": null,
   "metadata": {},
   "outputs": [],
   "source": [
    "df_p = pd.json_normalize(expected_issues, meta='manufacturer', record_path='pericarditis')\n",
    "df_p"
   ]
  },
  {
   "cell_type": "code",
   "execution_count": null,
   "metadata": {},
   "outputs": [],
   "source": [
    "df_m = df_m.groupby('manufacturer', as_index=False).sum()\n",
    "df_m = df_m.drop(['name'], axis=1)\n",
    "df_m = df_m.sort_values('count', ascending=False)\n",
    "df_m"
   ]
  },
  {
   "cell_type": "code",
   "execution_count": null,
   "metadata": {},
   "outputs": [],
   "source": [
    "df_m_string = df_m.to_json(orient='records' ,force_ascii=False, indent=2)\n",
    "print(df_m_string)"
   ]
  },
  {
   "cell_type": "code",
   "execution_count": null,
   "metadata": {},
   "outputs": [],
   "source": [
    "df_p = df_p.groupby('manufacturer', as_index=False).sum()\n",
    "df_p = df_p.drop(['name'], axis=1)\n",
    "df_p = df_p.sort_values('count', ascending=False)\n",
    "df_p"
   ]
  },
  {
   "cell_type": "code",
   "execution_count": null,
   "metadata": {},
   "outputs": [],
   "source": [
    "df_p_string = df_p.to_json(orient='records' ,force_ascii=False, indent=2)\n",
    "print(df_p_string)"
   ]
  }
 ],
 "metadata": {
  "kernelspec": {
   "display_name": "Python 3",
   "language": "python",
   "name": "python3"
  },
  "language_info": {
   "codemirror_mode": {
    "name": "ipython",
    "version": 3
   },
   "file_extension": ".py",
   "mimetype": "text/x-python",
   "name": "python",
   "nbconvert_exporter": "python",
   "pygments_lexer": "ipython3",
   "version": "3.8.10"
  }
 },
 "nbformat": 4,
 "nbformat_minor": 2
}
