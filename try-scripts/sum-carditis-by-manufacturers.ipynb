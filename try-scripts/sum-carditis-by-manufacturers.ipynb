{
 "cells": [
  {
   "cell_type": "code",
   "execution_count": null,
   "metadata": {},
   "outputs": [],
   "source": [
    "import yaml, os\n",
    "import pandas as pd\n",
    "\n",
    "metadata_path = os.path.join(\"../carditis\", \"metadata.yaml\")\n",
    "with open(metadata_path, \"r\", encoding='utf-8') as f:\n",
    "    metadata_root = yaml.safe_load(f) \n",
    "metadata = metadata_root['metadata']\n",
    "expected_issues = metadata['expected_issues']\n",
    "expected_issues"
   ]
  },
  {
   "cell_type": "code",
   "execution_count": null,
   "metadata": {},
   "outputs": [],
   "source": [
    "pd.DataFrame(expected_issues)"
   ]
  },
  {
   "cell_type": "code",
   "execution_count": null,
   "metadata": {},
   "outputs": [],
   "source": [
    "pd.json_normalize(expected_issues)"
   ]
  },
  {
   "cell_type": "code",
   "execution_count": null,
   "metadata": {},
   "outputs": [],
   "source": [
    "df_m = pd.json_normalize(expected_issues, meta='manufacturer', record_path='myocarditis')\n",
    "df_m"
   ]
  },
  {
   "cell_type": "code",
   "execution_count": null,
   "metadata": {},
   "outputs": [],
   "source": [
    "df_p = pd.json_normalize(expected_issues, meta='manufacturer', record_path='pericarditis')\n",
    "df_p"
   ]
  },
  {
   "cell_type": "code",
   "execution_count": null,
   "metadata": {},
   "outputs": [],
   "source": [
    "df_m = df_m.rename(columns={'count': 'myocarditis_count'})\n",
    "df_p = df_p.rename(columns={'count': 'pericarditis_count'})\n",
    "merged_df = pd.merge(df_m, df_p, on=['name', 'manufacturer'])\n",
    "merged_df = merged_df.rename(columns={'name': 'vaccine_name'})\n",
    "merged_df = merged_df.reindex(columns=['manufacturer', 'vaccine_name', 'myocarditis_count', 'pericarditis_count'])\n",
    "merged_df"
   ]
  },
  {
   "cell_type": "code",
   "execution_count": null,
   "metadata": {},
   "outputs": [],
   "source": [
    "merged_df = merged_df.groupby('manufacturer').sum()\n",
    "merged_df = merged_df.drop(['vaccine_name'], axis=1)\n",
    "merged_df"
   ]
  },
  {
   "cell_type": "code",
   "execution_count": null,
   "metadata": {},
   "outputs": [],
   "source": [
    "merged_df = merged_df.reset_index()\n",
    "merged_df"
   ]
  },
  {
   "cell_type": "code",
   "execution_count": null,
   "metadata": {},
   "outputs": [],
   "source": [
    "merged_df_string = merged_df.to_json(orient='records' ,force_ascii=False, indent=2)\n",
    "merged_df_string"
   ]
  }
 ],
 "metadata": {
  "kernelspec": {
   "display_name": "Python 3",
   "language": "python",
   "name": "python3"
  },
  "language_info": {
   "codemirror_mode": {
    "name": "ipython",
    "version": 3
   },
   "file_extension": ".py",
   "mimetype": "text/x-python",
   "name": "python",
   "nbconvert_exporter": "python",
   "pygments_lexer": "ipython3",
   "version": "3.8.18"
  }
 },
 "nbformat": 4,
 "nbformat_minor": 2
}
