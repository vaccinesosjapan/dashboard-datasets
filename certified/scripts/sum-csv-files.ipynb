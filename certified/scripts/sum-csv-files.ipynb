{
 "cells": [
  {
   "cell_type": "code",
   "execution_count": null,
   "id": "3bfc0066",
   "metadata": {},
   "outputs": [],
   "source": [
    "import pandas as pd\n",
    "import glob, os, re\n",
    "\n",
    "csv_file_list = glob.glob('intermediate-files/*.csv')\n",
    "\n",
    "merged_df = pd.DataFrame()\n",
    "for file in csv_file_list:\n",
    "\twith open(file, \"r\", encoding='utf-8') as f:\n",
    "\t\t# 「否認理由」列が浮動小数点として読み取られると3.0みたいになってしまうため、一律に文字列として読み取る。\n",
    "\t\tdf = pd.read_csv(f, dtype={'否認理由': str})\n",
    "\t\tif merged_df.empty:\n",
    "\t\t\tmerged_df = df\n",
    "\t\telse:\n",
    "\t\t\tmerged_df = pd.concat([merged_df, df], ignore_index=True)"
   ]
  },
  {
   "cell_type": "code",
   "execution_count": null,
   "id": "faaff289",
   "metadata": {},
   "outputs": [],
   "source": [
    "# 年の為にJSONも読み込んで確認する用。CSVの方は判定が「保留」のデータも含んでいる点に注意。\n",
    "'''\n",
    "json_file_list = glob.glob('../reports-data/*.json')\n",
    "\n",
    "merged_df2 = pd.DataFrame()\n",
    "for file in json_file_list:\n",
    "\twith open(file, \"r\", encoding='utf-8') as f:\n",
    "\t\tdf = pd.read_json(f)\n",
    "\t\tif merged_df2.empty:\n",
    "\t\t\tmerged_df2 = df\n",
    "\t\telse:\n",
    "\t\t\tmerged_df2 = pd.concat([merged_df2, df], ignore_index=True)\n",
    "'''"
   ]
  },
  {
   "cell_type": "code",
   "execution_count": null,
   "id": "0cc900d5",
   "metadata": {},
   "outputs": [],
   "source": [
    "def remove_empty_lines(source_path, target_path):\n",
    "    fixed_data = ''\n",
    "    with open(source_path, encoding=\"utf-8-sig\") as f:\n",
    "        for line in f:\n",
    "            if not line.isspace():\n",
    "                if line.startswith(','):\n",
    "                    line = re.sub('^,', '', line)\n",
    "                fixed_data += line\n",
    "\n",
    "    with open(target_path, \"w\", encoding=\"utf-8-sig\") as f:\n",
    "        f.write(fixed_data)"
   ]
  },
  {
   "cell_type": "code",
   "execution_count": null,
   "id": "30ce6543",
   "metadata": {},
   "outputs": [],
   "source": [
    "output_path = os.path.join('..', '_datasets', 'reference-data', 'certified-reports.csv')\n",
    "with open(output_path, \"w\", encoding='utf-8-sig') as f:\n",
    "\tmerged_df.to_csv(f, encoding='utf-8-sig', index=False)\n",
    "\n",
    "remove_empty_lines(output_path, output_path)"
   ]
  }
 ],
 "metadata": {
  "kernelspec": {
   "display_name": "Python 3",
   "language": "python",
   "name": "python3"
  },
  "language_info": {
   "codemirror_mode": {
    "name": "ipython",
    "version": 3
   },
   "file_extension": ".py",
   "mimetype": "text/x-python",
   "name": "python",
   "nbconvert_exporter": "python",
   "pygments_lexer": "ipython3",
   "version": "3.12.10"
  }
 },
 "nbformat": 4,
 "nbformat_minor": 5
}
