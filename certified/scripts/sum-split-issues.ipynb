{
 "cells": [
  {
   "cell_type": "code",
   "execution_count": 1,
   "id": "c00cbd16",
   "metadata": {},
   "outputs": [],
   "source": [
    "import pandas as pd\n",
    "import json, os, copy\n",
    "\n",
    "# todo\n",
    "source_dir = '../../_datasets'\n",
    "output_dir = '../../_datasets'"
   ]
  },
  {
   "cell_type": "code",
   "execution_count": 2,
   "id": "fb1f3f6f",
   "metadata": {},
   "outputs": [],
   "source": [
    "source_path = os.path.join(source_dir, 'certified-reports.json')\n",
    "df = pd.read_json(source_path)\n",
    "pivot_df = df.pivot_table('no', index=['certified_date'], columns=['description_of_claim', 'judgment_result'], aggfunc='count', observed=False).fillna(0).astype(int)"
   ]
  },
  {
   "cell_type": "code",
   "execution_count": 3,
   "id": "e6ffa7e2",
   "metadata": {},
   "outputs": [],
   "source": [
    "# 亡くなった方々に関する請求内容がいくつか分かれてしまっているので「死亡一時金', '葬祭料」として合算してまとめる。\n",
    "pivot_df[('merged', '認定')] = pivot_df[('死亡一時金', '認定')] + pivot_df[('葬祭料', '認定')] + pivot_df[('死亡一時金・葬祭料', '認定')]\n",
    "pivot_df[('merged', '否認')] = pivot_df[('死亡一時金', '否認')] + pivot_df[('葬祭料', '否認')] + pivot_df[('死亡一時金・葬祭料', '否認')]\n",
    "pivot_df.drop(columns=[\n",
    "\t('死亡一時金', '否認'), ('死亡一時金', '認定'),\n",
    "\t('死亡一時金・葬祭料', '否認'), ('死亡一時金・葬祭料', '認定'),\n",
    "\t('葬祭料', '否認'), ('葬祭料', '認定')\n",
    "], inplace=True)\n",
    "pivot_df.rename(columns={'merged': '死亡一時金・葬祭料'}, inplace=True)"
   ]
  },
  {
   "cell_type": "code",
   "execution_count": 4,
   "id": "84dd4581",
   "metadata": {},
   "outputs": [],
   "source": [
    "# 列名を半角英数の文字列に変換しつつ、MultiIndexを解除してフラットな文字列に。\n",
    "columns_dict = {\n",
    "\t'医療費・医療手当': 'medical',\n",
    "\t'死亡一時金・葬祭料': 'death',\n",
    "\t'障害児養育年金': 'disability_of_children',\n",
    "\t'障害年金': 'disability'\n",
    "}\n",
    "columns_replace_dict = copy.deepcopy(columns_dict)\n",
    "columns_replace_dict['認定'] = 'certified'\n",
    "columns_replace_dict['否認'] = 'denied'\n",
    "\n",
    "pivot_df.rename(columns=columns_replace_dict, inplace=True)\n",
    "pivot_df.columns = ['_'.join(col) for col in pivot_df.columns]"
   ]
  },
  {
   "cell_type": "code",
   "execution_count": 5,
   "id": "ca37dbc8",
   "metadata": {},
   "outputs": [],
   "source": [
    "# 列の順番を整える。\n",
    "pivot_df = pivot_df.reindex(columns=[\n",
    "\t'medical_certified', 'medical_denied',\n",
    "\t'death_certified', 'death_denied',\n",
    "\t'disability_of_children_certified', 'disability_of_children_denied',\n",
    "\t'disability_certified', 'disability_denied',\n",
    "])"
   ]
  },
  {
   "cell_type": "code",
   "execution_count": 6,
   "id": "e7f8317d",
   "metadata": {},
   "outputs": [],
   "source": [
    "# 累計データの作成\n",
    "for col in pivot_df.columns:\n",
    "\tpivot_df[f'{col}_sum'] = pivot_df[col].cumsum()"
   ]
  },
  {
   "cell_type": "code",
   "execution_count": 7,
   "id": "a8932492",
   "metadata": {},
   "outputs": [],
   "source": [
    "# グラフ側で表示する名称を得るための辞書を作る。\n",
    "display_name_dict = dict()\n",
    "for k, v in columns_dict.items():\n",
    "\tdisplay_name_dict[v] = k"
   ]
  },
  {
   "cell_type": "code",
   "execution_count": 8,
   "id": "5aca3549",
   "metadata": {},
   "outputs": [],
   "source": [
    "def get_margin(data: int) -> int:\n",
    "\tif 0 < data and data < 50:\n",
    "\t\treturn 5\n",
    "\telif 50 <= data and data < 100:\n",
    "\t\treturn 10\n",
    "\telif 100 <= data and data < 1000:\n",
    "\t\treturn 50\n",
    "\telif 1000 <= data and data < 5000:\n",
    "\t\treturn 100\n",
    "\telif 5000 <= data and data < 10000:\n",
    "\t\treturn 500\n",
    "\telse:\n",
    "\t\treturn 1000\n",
    "\n",
    "def get_round_param(data: int) -> int:\n",
    "\tif 0 < data and data < 100:\n",
    "\t\treturn -1\n",
    "\telif 100 <= data and data < 1000:\n",
    "\t\treturn -1\n",
    "\telif 1000 <= data and data < 10000:\n",
    "\t\treturn -2\n",
    "\telse:\n",
    "\t\treturn -3\n",
    "\n",
    "def get_fine_rounded_value(max_val: int) -> int:\n",
    "\tmargin = get_margin(max_val)\n",
    "\tparam = get_round_param(max_val)\n",
    "\treturn int(round(max_val + margin, param))"
   ]
  },
  {
   "cell_type": "code",
   "execution_count": 9,
   "id": "7bbbd93c",
   "metadata": {},
   "outputs": [],
   "source": [
    "data_list = []\n",
    "for k, v in display_name_dict.items():\n",
    "    # グラフ側でY軸の値をどのぐらいにすればよいかを示す値を計算してデータに含める。\n",
    "    max_data = (pivot_df[f'{k}_certified'] + pivot_df[f'{k}_denied']).max()\n",
    "    normal_y_axis_max = get_fine_rounded_value(max_data)\n",
    "\n",
    "    last_sum_data = pivot_df[f'{k}_certified_sum'].iloc[-1] + pivot_df[f'{k}_denied_sum'].iloc[-1]\n",
    "    sum_y_axis_max = get_fine_rounded_value(last_sum_data)\n",
    "\n",
    "    '''\n",
    "    # debug print\n",
    "    print(k)\n",
    "    print(f'normal: max={max_data}, axis_max={normal_y_axis_max}')\n",
    "    print(f'sum   : max={last_sum_data}, axis_max={sum_y_axis_max}')\n",
    "    print()\n",
    "    '''\n",
    "\n",
    "\t# NaNをnullに変換しておけば、JSON出力した際にもフロントエンドで解釈可能なnullとして出力される。\n",
    "    # 最初はfillna(0)でゼロ埋めしようと思ったのだが、認定比率のグラフ的に微妙だったのでやめた。\n",
    "    data = {\n",
    "\t\t\t\"id\": k,\n",
    "\t\t\t\"display_name\": v,\n",
    "\t\t\t\"certified_data\": pivot_df[f'{k}_certified'].tolist(),\n",
    "\t\t\t\"certified_sum_data\": pivot_df[f'{k}_certified_sum'].tolist(),\n",
    "\t\t\t\"denied_data\": pivot_df[f'{k}_denied'].tolist(),\n",
    "\t\t\t\"denied_sum_data\": pivot_df[f'{k}_denied_sum'].tolist(),\n",
    "\t\t\t\"certified_rate\": round(pivot_df[f'{k}_certified'] / (pivot_df[f'{k}_certified'] + pivot_df[f'{k}_denied']) * 100, 2).fillna(0).tolist(),\n",
    "            \"certified_rate_sum\": round(pivot_df[f'{k}_certified_sum'] / (pivot_df[f'{k}_certified_sum'] + pivot_df[f'{k}_denied_sum']) * 100, 2).fillna(0).tolist(),\n",
    "            \"normal_y_axis_max\": normal_y_axis_max,\n",
    "            \"sum_y_axis_max\": sum_y_axis_max,\n",
    "\t\t}\n",
    "    data_list.append(data)\n",
    "\n",
    "data_for_frontend = {\n",
    "    \"x_axis_data\": pivot_df.index.to_list(),\n",
    "\t\"data_list\": data_list\n",
    "}\n",
    "\n",
    "output_path = os.path.join(output_dir, 'judged-split-data.json')\n",
    "with open(output_path, 'w', encoding='utf-8') as f:\n",
    "    json.dump(data_for_frontend, f, ensure_ascii=False, separators=(',', ':'))"
   ]
  }
 ],
 "metadata": {
  "kernelspec": {
   "display_name": "3.12.8",
   "language": "python",
   "name": "python3"
  },
  "language_info": {
   "codemirror_mode": {
    "name": "ipython",
    "version": 3
   },
   "file_extension": ".py",
   "mimetype": "text/x-python",
   "name": "python",
   "nbconvert_exporter": "python",
   "pygments_lexer": "ipython3",
   "version": "3.12.8"
  }
 },
 "nbformat": 4,
 "nbformat_minor": 5
}
