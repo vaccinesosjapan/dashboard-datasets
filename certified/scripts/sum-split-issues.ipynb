{
 "cells": [
  {
   "cell_type": "code",
   "execution_count": 79,
   "id": "c00cbd16",
   "metadata": {},
   "outputs": [],
   "source": [
    "import pandas as pd\n",
    "import json, os\n",
    "\n",
    "source_dir = '../_datasets'\n",
    "output_dir = '../_datasets'"
   ]
  },
  {
   "cell_type": "code",
   "execution_count": 80,
   "id": "fb1f3f6f",
   "metadata": {},
   "outputs": [],
   "source": [
    "source_path = os.path.join(source_dir, 'certified-reports.json')\n",
    "df = pd.read_json(source_path)\n",
    "pivot_df = df.pivot_table('no', index=['certified_date'], columns=['description_of_claim', 'judgment_result'], aggfunc='count', observed=False).fillna(0).astype(int)"
   ]
  },
  {
   "cell_type": "code",
   "execution_count": 81,
   "id": "e6ffa7e2",
   "metadata": {},
   "outputs": [],
   "source": [
    "# 亡くなった方々に関する請求内容がいくつか分かれてしまっているので「死亡一時金', '葬祭料」として合算してまとめる。\n",
    "pivot_df[('merged', '認定')] = pivot_df[('死亡一時金', '認定')] + pivot_df[('葬祭料', '認定')] + pivot_df[('死亡一時金・葬祭料', '認定')]\n",
    "pivot_df[('merged', '否認')] = pivot_df[('死亡一時金', '否認')] + pivot_df[('葬祭料', '否認')] + pivot_df[('死亡一時金・葬祭料', '否認')]\n",
    "pivot_df.drop(columns=[\n",
    "\t('死亡一時金', '否認'), ('死亡一時金', '認定'),\n",
    "\t('死亡一時金・葬祭料', '否認'), ('死亡一時金・葬祭料', '認定'),\n",
    "\t('葬祭料', '否認'), ('葬祭料', '認定')\n",
    "], inplace=True)\n",
    "pivot_df.rename(columns={'merged': '死亡一時金・葬祭料'}, inplace=True)"
   ]
  },
  {
   "cell_type": "code",
   "execution_count": 82,
   "id": "84dd4581",
   "metadata": {},
   "outputs": [],
   "source": [
    "# 列名を半角英数の文字列に変換しつつ、MultiIndexを解除してフラットな文字列に。\n",
    "columns_replace_dict = {\n",
    "\t'医療費・医療手当': 'medical',\n",
    "\t'死亡一時金・葬祭料': 'death',\n",
    "\t'障害児養育年金': 'disability_of_children',\n",
    "\t'障害年金': 'disability',\n",
    "\t'認定': 'certified',\n",
    "\t'否認': 'denied'\n",
    "}\n",
    "pivot_df.rename(columns=columns_replace_dict, inplace=True)\n",
    "pivot_df.columns = ['_'.join(col) for col in pivot_df.columns]"
   ]
  },
  {
   "cell_type": "code",
   "execution_count": 83,
   "id": "ca37dbc8",
   "metadata": {},
   "outputs": [],
   "source": [
    "# 列の順番を整える。\n",
    "pivot_df = pivot_df.reindex(columns=[\n",
    "\t'medical_certified', 'medical_denied',\n",
    "\t'death_certified', 'death_denied',\n",
    "\t'disability_of_children_certified', 'disability_of_children_denied',\n",
    "\t'disability_certified', 'disability_denied',\n",
    "])"
   ]
  },
  {
   "cell_type": "code",
   "execution_count": 84,
   "id": "e7f8317d",
   "metadata": {},
   "outputs": [],
   "source": [
    "# 累計データの作成\n",
    "for col in pivot_df.columns:\n",
    "\tpivot_df[f'{col}_sum'] = pivot_df[col].cumsum()"
   ]
  },
  {
   "cell_type": "code",
   "execution_count": 85,
   "id": "a8932492",
   "metadata": {},
   "outputs": [],
   "source": [
    "# 列名から、グラフ側で表示する名称を得るための辞書を作る。\n",
    "display_name_base_dict = {\n",
    "\t'medical_certified': \"認定件数（医療費・医療手当）\",\n",
    "\t'medical_denied': '否認件数（医療費・医療手当）',\n",
    "\t'death_certified': '認定件数（死亡一時金・葬祭料）',\n",
    "\t'death_denied': '否認件数（死亡一時金・葬祭料）',\n",
    "\t'disability_of_children_certified': '認定件数（障害児養育年金）',\n",
    "\t'disability_of_children_denied': '否認件数（障害児養育年金）',\n",
    "\t'disability_certified': '認定件数（障害年金）',\n",
    "\t'disability_denied': '否認件数（障害年金）',\n",
    "}\n",
    "display_name_dict = dict()\n",
    "for k, v in display_name_base_dict.items():\n",
    "\tdisplay_name_dict[k] = v\n",
    "\tdisplay_name_dict[f'{k}_sum'] = v"
   ]
  },
  {
   "cell_type": "code",
   "execution_count": 86,
   "id": "108cd5db",
   "metadata": {},
   "outputs": [],
   "source": [
    "data_list = []\n",
    "for col in pivot_df.columns:\n",
    "    data = {\n",
    "        \"id\": pivot_df[col].name,\n",
    "        \"display_name\": display_name_dict[pivot_df[col].name],\n",
    "        \"certified\": col.__contains__('certified'),\n",
    "        \"cumulative\": col.endswith('_sum'),\n",
    "        \"y_axis_data\": pivot_df[col].tolist()\n",
    "\t}\n",
    "    data_list.append(data)\n",
    "\n",
    "data_for_frontend = {\n",
    "    \"x_axis_data\": pivot_df.index.to_list(),\n",
    "\t\"data_list\": data_list,\n",
    "}\n",
    "\n",
    "output_path = os.path.join(output_dir, 'judged-split-data.json')\n",
    "with open(output_path, 'w', encoding='utf-8') as f:\n",
    "    json.dump(data_for_frontend, f, ensure_ascii=False, separators=(',', ':'))"
   ]
  }
 ],
 "metadata": {
  "kernelspec": {
   "display_name": "Python 3",
   "language": "python",
   "name": "python3"
  },
  "language_info": {
   "codemirror_mode": {
    "name": "ipython",
    "version": 3
   },
   "file_extension": ".py",
   "mimetype": "text/x-python",
   "name": "python",
   "nbconvert_exporter": "python",
   "pygments_lexer": "ipython3",
   "version": "3.12.10"
  }
 },
 "nbformat": 4,
 "nbformat_minor": 5
}
