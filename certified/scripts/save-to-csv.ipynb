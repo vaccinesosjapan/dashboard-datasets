{
 "cells": [
  {
   "cell_type": "code",
   "execution_count": 7,
   "id": "c371471a",
   "metadata": {},
   "outputs": [],
   "source": [
    "import pandas as pd\n",
    "import os, sys\n",
    "\n",
    "# todo\n",
    "file_id = '000864789' #sys.argv[1]\n",
    "json_path = os.path.join('..', 'reports-data', f'{file_id}.json')\n",
    "\n",
    "df = pd.read_json(json_path)"
   ]
  },
  {
   "cell_type": "code",
   "execution_count": 8,
   "id": "512b086b",
   "metadata": {},
   "outputs": [],
   "source": [
    "df.drop([\"certified_date\", \"source_url\"], axis=1, inplace=True)"
   ]
  },
  {
   "cell_type": "code",
   "execution_count": 9,
   "id": "c4dd2df2",
   "metadata": {},
   "outputs": [],
   "source": [
    "df = df.reindex(columns=['gender', 'age', 'vaccine_name', 'description_of_claim', 'symptoms', 'pre_existing_conditions', 'judgment_result', 'reasons_for_repudiation', 'remarks'])\n",
    "df.rename(columns={'gender': '性別', 'age': '年齢', 'vaccine_name': 'ワクチン名', 'description_of_claim': '請求内容',\n",
    "\t\t\t\t   'symptoms': '疾病名', 'pre_existing_conditions': '基礎疾患', 'judgment_result': '判定',\n",
    "\t\t\t\t   'reasons_for_repudiation': '否認理由', 'remarks': '備考'}, inplace=True)"
   ]
  },
  {
   "cell_type": "code",
   "execution_count": 10,
   "id": "8be11c7b",
   "metadata": {},
   "outputs": [],
   "source": [
    "# 否認理由のTypeA-やTypeB-で始まる情報を、末尾の数字文字列だけの配列に変換する。\n",
    "def convert_reasons_type_to_numbers(lst):\n",
    "    if not isinstance(lst, list) or len(lst) == 0:\n",
    "        return ''\n",
    "    return ','.join([ typeStr.replace('TypeA-', '').replace('TypeB-', '') for typeStr in lst])"
   ]
  },
  {
   "cell_type": "code",
   "execution_count": 11,
   "id": "4ae14f9f",
   "metadata": {},
   "outputs": [],
   "source": [
    "# 数値の配列を文字列の配列に変換しつつ「歳」を付与して、複数ある場合は読点でつなぐ。\n",
    "df['年齢'] = df['年齢'].apply(lambda x: '、'.join([f\"{num}歳\" for num in x]))\n",
    "df['疾病名'] = df['疾病名'].apply(lambda x: '、'.join(x))\n",
    "df['基礎疾患'] = df['基礎疾患'].apply(lambda x: '、'.join(x))\n",
    "df['否認理由'] = df['否認理由'].apply(convert_reasons_type_to_numbers)"
   ]
  },
  {
   "cell_type": "code",
   "execution_count": 12,
   "id": "bca4e160",
   "metadata": {},
   "outputs": [],
   "source": [
    "# todo\n",
    "csv_path = os.path.join('..', 'intermediate-files', f'{file_id}.csv')\n",
    "df.to_csv(csv_path, index=False)"
   ]
  }
 ],
 "metadata": {
  "kernelspec": {
   "display_name": "Python 3",
   "language": "python",
   "name": "python3"
  },
  "language_info": {
   "codemirror_mode": {
    "name": "ipython",
    "version": 3
   },
   "file_extension": ".py",
   "mimetype": "text/x-python",
   "name": "python",
   "nbconvert_exporter": "python",
   "pygments_lexer": "ipython3",
   "version": "3.12.10"
  }
 },
 "nbformat": 4,
 "nbformat_minor": 5
}
