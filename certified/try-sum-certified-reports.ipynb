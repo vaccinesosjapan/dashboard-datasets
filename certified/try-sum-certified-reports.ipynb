{
 "cells": [
  {
   "cell_type": "code",
   "execution_count": 1,
   "metadata": {},
   "outputs": [],
   "source": [
    "import glob, json, os, datetime\n",
    "import pandas as pd\n",
    "import yaml\n",
    "\n",
    "json_file_list = glob.glob('reports-data/*.json')\n",
    "output_dir = '../_datasets'\n",
    "\n",
    "# 抽出した認定・否認一覧をひとつにまとめてファイルに保存する。\n",
    "certified_reports = []\n",
    "for file in json_file_list:\n",
    "\twith open(file, \"r\", encoding='utf-8') as f:\n",
    "\t\tdata = json.load(f)\n",
    "\t\tcertified_reports.extend(data)\n",
    "\n",
    "sorted_reports = sorted(certified_reports, key=lambda issue: issue['certified_date'])\n",
    "for index, repo_item in enumerate(sorted_reports):\n",
    "\tsorted_reports[index] = dict(**{'no': index+1}, **repo_item)"
   ]
  },
  {
   "cell_type": "code",
   "execution_count": 2,
   "metadata": {},
   "outputs": [],
   "source": [
    "def save_to_json(data, out_dir, filename):\n",
    "\tjson_string = json.dumps(data, ensure_ascii=False, indent=2)\n",
    "\toutput_path = os.path.join(out_dir, filename)\n",
    "\twith open( output_path, \"w\", encoding='utf-8') as f:\n",
    "\t\tf.write(json_string)"
   ]
  },
  {
   "cell_type": "code",
   "execution_count": 3,
   "metadata": {},
   "outputs": [],
   "source": [
    "def sum_with_description_of_claim(df):\n",
    "\tmedical_expenses_count = df[df['description_of_claim'].str.contains('医療費・医療手当')].shape[0]\n",
    "\tdisability_pension_of_children_count = df[df['description_of_claim'].str.contains('障害児養育年金')].shape[0]\n",
    "\tdisability_pension_count = df[df['description_of_claim'].str.contains('障害年金')].shape[0]\n",
    "\n",
    "\tdeath_series = pd.Series([])\n",
    "\tdeath_claims = ['死亡一時金', '遺族年金', '遺族一時金', '葬祭料']\n",
    "\tfor claim in death_claims:\n",
    "\t\tseries = df[df['description_of_claim'].str.contains(claim)]['no']\n",
    "\t\tif death_series.count() == 0:\n",
    "\t\t\tdeath_series = series\n",
    "\t\telse:\n",
    "\t\t\tdeath_series = pd.concat([death_series, series])\n",
    "\tdeath_count = len(death_series.unique())\n",
    "\n",
    "\treturn medical_expenses_count, disability_pension_of_children_count, disability_pension_count, death_count"
   ]
  },
  {
   "cell_type": "code",
   "execution_count": 4,
   "metadata": {},
   "outputs": [],
   "source": [
    "# 全ての案件をひとつのファイルに保存する。\n",
    "save_to_json(sorted_reports, output_dir, 'certified-reports.json')"
   ]
  },
  {
   "cell_type": "code",
   "execution_count": null,
   "metadata": {},
   "outputs": [],
   "source": [
    "df = pd.DataFrame(sorted_reports)\n",
    "certified_df = df[df['judgment_result'] == '認定']\n",
    "denied_df = df[df['judgment_result'] == '否認']\n",
    "\n",
    "certified_count = certified_df.shape[0]\n",
    "denied_count = denied_df.shape[0]\n",
    "\n",
    "print(f'判定結果: {df[\"judgment_result\"].unique()}')\n",
    "print(f'請求内容: {df['description_of_claim'].unique()}')\n",
    "print(' -> 意図していない内容が含まれている場合は、データの調査が必要。')"
   ]
  },
  {
   "cell_type": "code",
   "execution_count": 6,
   "metadata": {},
   "outputs": [],
   "source": [
    "with open('summary-settings.yaml', \"r\", encoding='utf-8') as f:\n",
    "    summary_settings_root = yaml.safe_load(f)\n",
    "summary_settings = summary_settings_root['settings']"
   ]
  },
  {
   "cell_type": "code",
   "execution_count": 7,
   "metadata": {},
   "outputs": [],
   "source": [
    "# 判定が「認定」の案件のみを対象として、症状ごとに性別で集計を実施する\n",
    "symptoms_list = []\n",
    "certified_df['symptoms'].map(lambda x: symptoms_list.extend(x))\n",
    "symptoms_unique_list = sorted(list(set(symptoms_list)))\n",
    "\n",
    "symptoms_names_dict = {s_name: { 'name': s_name, 'counts': {'male': 0, 'female': 0, 'sum': 0} } for s_name in symptoms_unique_list}\n",
    "for index in certified_df.index:\n",
    "\tsymptoms = certified_df.loc[index, 'symptoms']\n",
    "\tgender = certified_df.loc[index, 'gender']\n",
    "\n",
    "\tfor symptom_name in symptoms:\n",
    "\t\tif symptom_name == \"\":\n",
    "\t\t\tcontinue\n",
    "\t\t\t\n",
    "\t\tsymptoms_names_dict[symptom_name]['counts']['sum'] += 1\n",
    "\t\tif  gender == '男':\n",
    "\t\t\tsymptoms_names_dict[symptom_name]['counts']['male'] += 1\n",
    "\t\telif gender == '女':\n",
    "\t\t\tsymptoms_names_dict[symptom_name]['counts']['female'] += 1\n",
    "\t\telse:\n",
    "\t\t\tprint(f'性別が不明かも {gender}')\n",
    "symptom_summary_list = sorted(list(symptoms_names_dict.values()), key=lambda issue: issue['name'])\n",
    "\n",
    "save_to_json(symptom_summary_list, output_dir, 'certified-symptoms.json')"
   ]
  },
  {
   "cell_type": "code",
   "execution_count": 8,
   "metadata": {},
   "outputs": [],
   "source": [
    "certified_medical_count, certified_disability_children_count, certified_disability_count, certified_death_count = sum_with_description_of_claim(certified_df)\n",
    "denied_medical_count, denied_disability_children_count, denied_disability_count, denied_death_count = sum_with_description_of_claim(denied_df)"
   ]
  },
  {
   "cell_type": "code",
   "execution_count": 9,
   "metadata": {},
   "outputs": [],
   "source": [
    "# メタデータと判定結果一覧のデータから、「未処理件数」を算出する\n",
    "## [未処理件数] = [進達受理件数] - [認定件数] - [否認件数] - [保留件数]\n",
    "open_cases_count = summary_settings['total_entries'] - certified_count - denied_count - summary_settings['pending_count']"
   ]
  },
  {
   "cell_type": "code",
   "execution_count": 10,
   "metadata": {},
   "outputs": [],
   "source": [
    "certified_summary = {\n",
    "\t\"date\": summary_settings['date'],\n",
    "\t\"total_entries\": summary_settings['total_entries'],\n",
    "\t\"certified_count\": certified_count,\n",
    "\t\"denied_count\": denied_count,\n",
    "\t\"pending_count\": summary_settings['pending_count'],\n",
    "\t\"open_cases_count\": open_cases_count,\n",
    "\t\"certified_death_count\": certified_death_count,\n",
    "\t\"denied_death_count\": denied_death_count,\n",
    "\t\"certified_counts\": {\n",
    "\t\t\"medical_expenses_count\": certified_medical_count,\n",
    "\t\t\"disability_pension_of_children_count\": certified_disability_children_count,\n",
    "\t\t\"disability_pension_count\": certified_disability_count,\n",
    "\t\t\"death_count\": certified_death_count\n",
    "\t},\n",
    "\t\"denied_counts\": {\n",
    "\t\t\"medical_expenses_count\": denied_medical_count,\n",
    "\t\t\"disability_pension_of_children_count\": denied_disability_children_count,\n",
    "\t\t\"disability_pension_count\": denied_disability_count,\n",
    "\t\t\"death_count\": denied_death_count\n",
    "\t}\n",
    "}\n",
    "save_to_json(certified_summary, output_dir, 'certified-summary.json')"
   ]
  },
  {
   "cell_type": "code",
   "execution_count": 11,
   "metadata": {},
   "outputs": [],
   "source": [
    "other_vaccines_df = pd.read_csv(\"other-vaccines/certified-issues-summary.csv\", delimiter=',')\n",
    "covid19_vaccine_row = {'vaccine_name': \"新型コロナ\",\n",
    "\t\t'medical': certified_medical_count,\n",
    "\t\t'disability_of_children': certified_disability_children_count,\n",
    "\t\t'disability': certified_disability_count,\n",
    "\t\t'death': certified_death_count}\n",
    "other_vaccines_with_covid19_df = pd.concat([other_vaccines_df, pd.DataFrame(covid19_vaccine_row, index=[len(other_vaccines_df)])], ignore_index=True)"
   ]
  },
  {
   "cell_type": "code",
   "execution_count": 12,
   "metadata": {},
   "outputs": [],
   "source": [
    "with open('reports-settings-all.yaml', \"r\", encoding='utf-8') as file:\n",
    "    settings_root = yaml.safe_load(file)\n",
    "settings = settings_root['settings']\n",
    "\n",
    "date_format = '%Y/%m/%d'\n",
    "first_date = datetime.datetime.today()\n",
    "last_date = datetime.datetime.strptime('2021/01/01', date_format)\n",
    "\n",
    "for setting in settings:\n",
    "    dt = datetime.datetime.strptime(setting['date'], date_format)\n",
    "    if dt > last_date:\n",
    "        last_date = dt\n",
    "    if dt < first_date:\n",
    "        first_date = dt\n",
    "\n",
    "span_year = 0\n",
    "span_month = 0\n",
    "if last_date.month - first_date.month < 0:\n",
    "\tspan_year = last_date.year - first_date.year - 1\n",
    "\tspan_month = 12 + last_date.month - first_date.month\n",
    "else:\n",
    "\tspan_year = last_date.year - first_date.year\n",
    "\tspan_month = last_date.month - first_date.month\n",
    "\n",
    "\n",
    "with open('other-vaccines/metadata.yaml', \"r\", encoding='utf-8') as file:\n",
    "    metadata_root = yaml.safe_load(file)\n",
    "metadata = metadata_root['metadata']\n",
    "\n",
    "date_format2 = '%Y/%m'\n",
    "f_date = datetime.datetime.strptime(metadata['first_date'], date_format2)\n",
    "l_date = datetime.datetime.strptime(metadata['last_date'], date_format2)\n",
    "\n",
    "s_year = 0\n",
    "s_month = 0\n",
    "if l_date.month - f_date.month < 0:\n",
    "\ts_year = l_date.year - f_date.year - 1\n",
    "\ts_month = 12 + l_date.month - f_date.month\n",
    "else:\n",
    "\ts_year = l_date.year - f_date.year\n",
    "\ts_month = l_date.month - f_date.month"
   ]
  },
  {
   "cell_type": "code",
   "execution_count": 13,
   "metadata": {},
   "outputs": [],
   "source": [
    "summary_with_other_vaccines = {\n",
    "\t\"meta_data\": {\n",
    "\t\t\"covid19_vaccine\": {\n",
    "\t\t\t\"first_date\": first_date.strftime('%Y/%m/%d'),\n",
    "\t\t\t\"last_date\": last_date.strftime('%Y/%m/%d'),\n",
    "\t\t\t\"period\": f'{span_year}年{span_month}ヶ月',\n",
    "\t\t\t\"certified_count\": certified_count,\n",
    "\t\t\t\"source_url\": \"https://www.mhlw.go.jp/stf/shingi/shingi-shippei_127696_00001.html\"\n",
    "\t\t},\n",
    "\t\t\"other_vaccines\": {\n",
    "\t\t\t\"first_date\": metadata['first_date'],\n",
    "\t\t\t\"last_date\": metadata['last_date'],\n",
    "\t\t\t\"period\": f'{s_year}年{s_month}ヶ月',\n",
    "\t\t\t\"certified_count\": int(metadata['certified_count']),\n",
    "\t\t\t\"source_url\": metadata['source_url']\n",
    "\t\t}\n",
    "\t},\n",
    "\t\"chart_data\": {\n",
    "\t\t\"headers\": ['ワクチン名', '医療費・医療手当', '障害児養育年金', '障害年金', '死亡一時金・遺族年金・遺族一時金・葬祭料'],\n",
    "\t\t\"data\": json.loads(other_vaccines_with_covid19_df.to_json(orient='records', force_ascii=False, indent=2))\n",
    "\t}\n",
    "}\n",
    "save_to_json(summary_with_other_vaccines, output_dir, 'certified-summary-with-other-vaccines.json')"
   ]
  },
  {
   "cell_type": "code",
   "execution_count": 14,
   "metadata": {},
   "outputs": [],
   "source": [
    "# 判定日などの一覧データを作成して、ダッシュボードで表示するためのメタデータとして保存する処理\n",
    "certified_metadata = {\n",
    "\t\"judged_dates\": sorted(df['certified_date'].unique().tolist(), reverse=True),\n",
    "\t\"judged_result_list\": sorted(df['judgment_result'].unique().tolist(), reverse=True),\n",
    "\t\"gender_list\": sorted(df['gender'].unique().tolist(), reverse=True)\n",
    "}\n",
    "save_to_json(certified_metadata, output_dir, 'certified-metadata.json')"
   ]
  },
  {
   "cell_type": "code",
   "execution_count": 15,
   "metadata": {},
   "outputs": [],
   "source": [
    "# 症状などの一覧データを作成して、ダッシュボードで表示するためのメタデータとして保存する処理\n",
    "symptoms_df = pd.DataFrame(symptom_summary_list)\n",
    "certified_symptoms_metadata = {\n",
    "\t\"symptom_name_list\": sorted(symptoms_df['name'].unique().tolist()),\n",
    "}\n",
    "save_to_json(certified_symptoms_metadata, output_dir, 'certified-symptoms-metadata.json')"
   ]
  }
 ],
 "metadata": {
  "kernelspec": {
   "display_name": "Python 3",
   "language": "python",
   "name": "python3"
  },
  "language_info": {
   "codemirror_mode": {
    "name": "ipython",
    "version": 3
   },
   "file_extension": ".py",
   "mimetype": "text/x-python",
   "name": "python",
   "nbconvert_exporter": "python",
   "pygments_lexer": "ipython3",
   "version": "3.12.8"
  }
 },
 "nbformat": 4,
 "nbformat_minor": 2
}
