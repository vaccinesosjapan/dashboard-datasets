{
 "cells": [
  {
   "cell_type": "code",
   "execution_count": null,
   "id": "edd51575",
   "metadata": {},
   "outputs": [],
   "source": [
    "import os, json\n",
    "from collections import defaultdict\n",
    "import numpy as np\n",
    "import pandas as pd\n",
    "from natsort import index_natsorted\n",
    "\n",
    "json_file_path = os.path.join('..', '_datasets', 'medical-institution-reports.json')\n",
    "df = pd.read_json(json_file_path)"
   ]
  },
  {
   "cell_type": "code",
   "execution_count": null,
   "id": "710d5f7b",
   "metadata": {},
   "outputs": [],
   "source": [
    "# 過去データでは concurrent_vaccination_flag が NaN になる箇所がある。これらをbool型のfalseに変換する。\n",
    "concurrent_vaccination_flag_isna_df = df[df['concurrent_vaccination_flag'].isna()]\n",
    "df.loc[concurrent_vaccination_flag_isna_df.index, 'concurrent_vaccination_flag'] = 0.0\n",
    "df['concurrent_vaccination_flag'] = df['concurrent_vaccination_flag'].astype(bool)\n",
    "\n",
    "df.loc[concurrent_vaccination_flag_isna_df.index, 'concurrent_vaccination'] = ''"
   ]
  },
  {
   "cell_type": "code",
   "execution_count": null,
   "id": "f9609ccf",
   "metadata": {},
   "outputs": [],
   "source": [
    "concurrent_vaccination_df = df[df['concurrent_vaccination_flag']]\n",
    "cv_unique = concurrent_vaccination_df['concurrent_vaccination'].unique()\n",
    "if cv_unique.__contains__(''):\n",
    "\tprint(f'[Warn] 同時接種のフラグがTrueなのに、同時接種情報が空のものがありそうです。: {cv_unique}')"
   ]
  },
  {
   "cell_type": "code",
   "execution_count": null,
   "id": "2d4c31fd",
   "metadata": {},
   "outputs": [],
   "source": [
    "non_concurrent_vaccination_df = df[~df['concurrent_vaccination_flag']]\n",
    "non_cv_unique = non_concurrent_vaccination_df['concurrent_vaccination'].unique()\n",
    "if len(non_cv_unique) > 1:\n",
    "\tprint(f'[Warn] 同時接種のフラグがFalseなのに、同時接種情報が空で無いものがありそうです。: {non_cv_unique}')"
   ]
  },
  {
   "cell_type": "code",
   "execution_count": null,
   "id": "1abcb68f",
   "metadata": {},
   "outputs": [],
   "source": [
    "# 2025年よりも前のデータには含まれていない列も多いため、NaNの箇所が多数ある。これらを空白文字列に置換しておく。\n",
    "df = df.fillna('')\n",
    "\n",
    "# id 列を先頭にする\n",
    "df = df[['id'] + [col for col in df.columns if col not in ['id']]]"
   ]
  },
  {
   "cell_type": "code",
   "execution_count": null,
   "id": "004a96e1",
   "metadata": {},
   "outputs": [],
   "source": [
    "# original source: https://qiita.com/Lisphilar/items/b5d0a4e8ecb77f9c51f6\n",
    "def int2ordinal(num: int):\n",
    "    \"\"\"\n",
    "    Convert a natural number to a ordinal number.\n",
    "        Args:\n",
    "            num (int): natural number\n",
    "        Returns:\n",
    "            str: ordinal number, like 0th, 1st, 2nd,...\n",
    "        Notes:\n",
    "            Zero can be used as @num argument.\n",
    "    \"\"\"\n",
    "    if not isinstance(num, int):\n",
    "        raise TypeError(\n",
    "            f\"@num must be integer, but {num} was applied.\")\n",
    "    if num < 0:\n",
    "        raise ValueError(\n",
    "            f\"@num must be over 0, but {num} was applied.\")\n",
    "    ordinal_dict = defaultdict(lambda: \"th\")\n",
    "    ordinal_dict.update({1: \"st\", 2: \"nd\", 3: \"rd\"})\n",
    "    q, mod = divmod(num, 10)\n",
    "    suffix = \"th\" if q % 10 == 1 else ordinal_dict[mod]\n",
    "    return f\"{num}{suffix}\""
   ]
  },
  {
   "cell_type": "code",
   "execution_count": null,
   "id": "afbdd5c2",
   "metadata": {},
   "outputs": [],
   "source": [
    "# source 列のデータから第何回のデータなのか、という情報を抽出してID文字列を生成\n",
    "id_nan_df = df[df['id'] == '']\n",
    "if len(id_nan_df) != 0:\n",
    "\tsource_name_series = id_nan_df['source'].apply(pd.Series)\n",
    "\tsource_name_series['prefix-number'] = source_name_series['name'].str.replace('第', '').str.replace('回', '')\n",
    "\tsource_name_series['prefix-number'] = source_name_series['prefix-number'].astype(int)\n",
    "\tsource_name_series['prefix'] = source_name_series['prefix-number'].map(lambda x: int2ordinal(x))\n",
    "\n",
    "\tsource_name_series['kind'] = id_nan_df['severity'].map(lambda x: 'MIS' if x == '重い' else 'MIN')\n",
    "\tsource_name_series['no'] = id_nan_df['no'].astype(str)\n",
    "\n",
    "\tsource_name_series['id'] = source_name_series['prefix'] + '-' + source_name_series['kind'] + '-' + source_name_series['no']\n",
    "\n",
    "\tdf.loc[id_nan_df.index, 'id'] = source_name_series['id']"
   ]
  },
  {
   "cell_type": "code",
   "execution_count": null,
   "id": "87280708",
   "metadata": {},
   "outputs": [],
   "source": [
    "# IDでいい感じにソートする\n",
    "df = df.sort_values(\n",
    "    by=\"id\",\n",
    "    key=lambda x: np.argsort(index_natsorted(df[\"id\"]))\n",
    ")"
   ]
  },
  {
   "cell_type": "code",
   "execution_count": null,
   "id": "1a79c888",
   "metadata": {},
   "outputs": [],
   "source": [
    "# 日付のスラッシュがエスケープされないようにするため、json.dumpsを使って文字列化する\n",
    "df_dict = df.to_dict(\"records\")\n",
    "df_string = json.dumps(df_dict, ensure_ascii=False, indent=2)\n",
    "\n",
    "with open(json_file_path, encoding='utf-8', mode='w') as f:\n",
    "\tf.write(df_string)"
   ]
  }
 ],
 "metadata": {
  "kernelspec": {
   "display_name": "3.12.8",
   "language": "python",
   "name": "python3"
  },
  "language_info": {
   "codemirror_mode": {
    "name": "ipython",
    "version": 3
   },
   "file_extension": ".py",
   "mimetype": "text/x-python",
   "name": "python",
   "nbconvert_exporter": "python",
   "pygments_lexer": "ipython3",
   "version": "3.12.8"
  }
 },
 "nbformat": 4,
 "nbformat_minor": 5
}
