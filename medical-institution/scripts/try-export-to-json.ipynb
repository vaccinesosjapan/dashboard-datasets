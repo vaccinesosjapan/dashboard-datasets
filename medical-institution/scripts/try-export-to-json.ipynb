{
 "cells": [
  {
   "cell_type": "code",
   "execution_count": null,
   "metadata": {},
   "outputs": [],
   "source": [
    "import os, re, unicodedata, json\n",
    "import pandas as pd\n",
    "\n",
    "# スクリプトをエクスポートした際に調整が必要な各種パス情報\n",
    "relative_dir = '104th-2' # sys.argv[1]\n",
    "csv_folder = os.path.join('..', 'intermediate-files', relative_dir)\n",
    "csv_file_name = '001325447-manually-fixed.csv' # sys.argv[2]\n",
    "expected_issue_count = int('269') # int(sys.argv[3])\n",
    "json_folder = os.path.join('..', 'reports-data')\n",
    "json_file_name = '001325447.json' # sys.argv[4]\n",
    "source_name = '第104回' # sys.argv[5]\n",
    "source_url = 'https://www.mhlw.go.jp/content/11120000/001325447.pdf' # sys.argv[6]\n",
    "\n",
    "csv_file_path = os.path.join(csv_folder, csv_file_name)\n",
    "df = pd.read_csv(csv_file_path, delimiter=',')"
   ]
  },
  {
   "cell_type": "code",
   "execution_count": null,
   "metadata": {},
   "outputs": [],
   "source": [
    "# このあとの各種処理をしやすくするため、NaNは空文字列に置換しておく。\n",
    "df = df.fillna('')"
   ]
  },
  {
   "cell_type": "code",
   "execution_count": null,
   "metadata": {},
   "outputs": [],
   "source": [
    "# age 列に関して、「歳」を除去すれば年齢を数字に変換できるセルだけ処理する\n",
    "age_is_number_df = df[df['age'].map(lambda x: x.replace('歳', '').isdecimal())]\n",
    "age_is_number_df.loc[:, 'age'] = age_is_number_df['age'].map(lambda x: int(x.replace('歳', '')))\n",
    "df.loc[age_is_number_df.index, 'age'] = age_is_number_df"
   ]
  },
  {
   "cell_type": "code",
   "execution_count": null,
   "metadata": {},
   "outputs": [],
   "source": [
    "# 全角のかっこ（）に囲まれたPT名だけを抽出し、各行にPT名の配列を格納したSeriesを取得する\n",
    "regex = re.compile('(?<=（).+?(?=\\）)')\n",
    "split_PT_names_series = df['PT_names'].map(lambda x: regex.findall(x.replace('\\r\\n', '')))\n",
    "df.loc[split_PT_names_series.index, 'PT_names'] = split_PT_names_series"
   ]
  },
  {
   "cell_type": "code",
   "execution_count": null,
   "metadata": {},
   "outputs": [],
   "source": [
    "if df['days_to_onset'].dtype != type(str):\n",
    "\tprint('days_to_onset 列が数字のみのため文字列型に変更します')\n",
    "\tdf['days_to_onset'] = df['days_to_onset'].astype(str)"
   ]
  },
  {
   "cell_type": "code",
   "execution_count": null,
   "metadata": {},
   "outputs": [],
   "source": [
    "# 改行を除去して配列にする処理と、Windowsの改行（\\r\\n）を（\\n）に変換する処理\n",
    "df.loc[:, 'vaccinated_dates'] = df['vaccinated_dates'].str.replace(' ', '').str.replace('\\r\\n', '\\n').str.split('\\n')\n",
    "df.loc[:, 'onset_dates'] = df['onset_dates'].str.replace(' ', '').str.replace('\\r\\n', '\\n').str.split('\\n')\n",
    "df.loc[:, 'days_to_onset'] = df['days_to_onset'].str.replace('\\r\\n', '\\n').str.split('\\n')\n",
    "df.loc[:, 'manufacturer'] = df['manufacturer'].str.replace('\\r\\n', '\\n').str.replace('\\n', '')\n",
    "df.loc[:, 'gross_result_dates'] = df['gross_result_dates'].str.replace(' ', '').str.replace('\\r\\n', '\\n').str.split('\\n')\n",
    "df.loc[:, 'gross_results'] = df['gross_results'].str.replace(' ', '').str.replace('\\r\\n', '\\n').str.split('\\n')"
   ]
  },
  {
   "cell_type": "code",
   "execution_count": null,
   "metadata": {},
   "outputs": [],
   "source": [
    "# ワクチン名に全角の数字が含まれていて検索が困難にあるなど弊害があるため、大文字小文字などの違いも対象に正規化\n",
    "df.loc[:, 'vaccine_name'] = df['vaccine_name'].str.replace('\\r\\n', '\\n').str.replace('\\n', '')\n",
    "df.loc[:, 'vaccine_name'] = df['vaccine_name'].map(lambda x: unicodedata.normalize(\"NFKC\", x))"
   ]
  },
  {
   "cell_type": "code",
   "execution_count": null,
   "metadata": {},
   "outputs": [],
   "source": [
    "result_issue_count = df.shape[0]\n",
    "if result_issue_count != expected_issue_count:\n",
    "\tprint(f'[Warning] {expected_issue_count} 件のデータのはずが、{result_issue_count} 件のデータになりました。')\n",
    "\tprint('手作業時のデータ構造や想定件数の確認が必要と思われます。')\n",
    "\tprint()"
   ]
  },
  {
   "cell_type": "code",
   "execution_count": null,
   "metadata": {},
   "outputs": [],
   "source": [
    "# ソースの情報を一覧に追加する\n",
    "source_array = [{ \"name\": source_name, \"url\": source_url }] * df.shape[0]\n",
    "df['source'] = source_array"
   ]
  },
  {
   "cell_type": "code",
   "execution_count": null,
   "metadata": {},
   "outputs": [],
   "source": [
    "# 日付のスラッシュがエスケープされないようにするため、json.dumpsを使って文字列化する\n",
    "df_dict = df.to_dict(\"records\")\n",
    "df_string = json.dumps(df_dict, ensure_ascii=False, indent=2)\n",
    "\n",
    "json_file_path = os.path.join(json_folder, json_file_name)\n",
    "with open(json_file_path, encoding='utf-8', mode='w') as f:\n",
    "\tf.write(df_string)\n",
    "\n",
    "print(f'{json_file_path} にJSON形式で保存しました。')"
   ]
  }
 ],
 "metadata": {
  "kernelspec": {
   "display_name": "Python 3",
   "language": "python",
   "name": "python3"
  },
  "language_info": {
   "codemirror_mode": {
    "name": "ipython",
    "version": 3
   },
   "file_extension": ".py",
   "mimetype": "text/x-python",
   "name": "python",
   "nbconvert_exporter": "python",
   "pygments_lexer": "ipython3",
   "version": "3.12.8"
  }
 },
 "nbformat": 4,
 "nbformat_minor": 2
}
