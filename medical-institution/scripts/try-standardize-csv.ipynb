{
 "cells": [
  {
   "cell_type": "code",
   "execution_count": null,
   "metadata": {},
   "outputs": [],
   "source": [
    "import os, re, sys\n",
    "import pandas as pd\n",
    "from distutils.util import strtobool\n",
    "\n",
    "# スクリプトへエクスポートした際に、必要に応じてパスの更新が必要な情報\n",
    "relative_dir = '104th-2' # sys.argv[1]\n",
    "csv_folder = os.path.join('..', 'intermediate-files', relative_dir)\n",
    "csv_file_name = '001325447-pre.csv' # sys.argv[2]\n",
    "has_concurrent_vaccination = bool(strtobool('true')) # bool(strtobool(sys.argv[3]))\n",
    "\n",
    "csv_file_path = os.path.join(csv_folder, csv_file_name)\n",
    "original_df = pd.read_csv(csv_file_path)"
   ]
  },
  {
   "cell_type": "code",
   "execution_count": 12,
   "metadata": {},
   "outputs": [],
   "source": [
    "# 列の調整。PDFから読み取った内容によっては列の数などが変動して、ここの処理を変える必要があるかも。\n",
    "df = original_df.copy()\n",
    "\n",
    "# 「同時接種」の列があるデータの場合、ロット番号の後に追加する\n",
    "if has_concurrent_vaccination:\n",
    "\tcolumns = ['no', 'age', 'gender', 'vaccinated_dates', 'onset_dates', 'days_to_onset', 'vaccine_name', 'concurrent_vaccination', 'manufacturer', 'lot_no', 'PT_names', 'causal_relationship', 'severity', 'gross_result_dates', 'gross_results']\n",
    "else:\n",
    "\tcolumns = ['no', 'age', 'gender', 'vaccinated_dates', 'onset_dates', 'days_to_onset', 'vaccine_name', 'manufacturer', 'lot_no', 'PT_names', 'causal_relationship', 'severity', 'gross_result_dates', 'gross_results']\n",
    "df.columns = columns"
   ]
  },
  {
   "cell_type": "code",
   "execution_count": 13,
   "metadata": {},
   "outputs": [],
   "source": [
    "# gender 列がNaNのデータが多数あり。age 列に半角スペース区切りで場合が多く、抽出する。\n",
    "gender_nan_df = df[df['gender'].isna()]\n",
    "age_split_df = gender_nan_df['age'].str.split(' ', expand=True)\n",
    "\n",
    "if age_split_df.shape[1] == 2:\n",
    "\tage_split_df = age_split_df[age_split_df[1].notna()]\n",
    "\tdf.loc[age_split_df.index, 'age'] = age_split_df[0]\n",
    "\tdf.loc[age_split_df.index, 'gender'] = age_split_df[1]"
   ]
  },
  {
   "cell_type": "code",
   "execution_count": null,
   "metadata": {},
   "outputs": [],
   "source": [
    "csv_file_name_without_ext = os.path.splitext(csv_file_name)[0].replace('-pre', '-converted')\n",
    "csv_file_path = os.path.join(csv_folder, f'{csv_file_name_without_ext}.csv')\n",
    "with open(csv_file_path, encoding='utf-8', mode='w') as f:\n",
    "\tf.write(df.to_csv(index=False))"
   ]
  },
  {
   "cell_type": "code",
   "execution_count": 11,
   "metadata": {},
   "outputs": [],
   "source": [
    "def remove_empty_lines(source_path, target_path):\n",
    "    fixed_data = ''\n",
    "    with open(source_path, encoding=\"utf-8\") as f:\n",
    "        for line in f:\n",
    "            if line.isspace():\n",
    "                continue\n",
    "            if line.startswith('0,1,2,3,4,5'):\n",
    "                continue\n",
    "            if line.startswith(','):\n",
    "                line = re.sub('^,', '', line)\n",
    "            fixed_data += line\n",
    "\n",
    "    with open(target_path, \"w\", encoding=\"utf-8\") as f:\n",
    "        f.write(fixed_data)\n"
   ]
  },
  {
   "cell_type": "code",
   "execution_count": 12,
   "metadata": {},
   "outputs": [],
   "source": [
    "remove_empty_lines(csv_file_path, csv_file_path)"
   ]
  }
 ],
 "metadata": {
  "kernelspec": {
   "display_name": "Python 3",
   "language": "python",
   "name": "python3"
  },
  "language_info": {
   "codemirror_mode": {
    "name": "ipython",
    "version": 3
   },
   "file_extension": ".py",
   "mimetype": "text/x-python",
   "name": "python",
   "nbconvert_exporter": "python",
   "pygments_lexer": "ipython3",
   "version": "3.12.8"
  }
 },
 "nbformat": 4,
 "nbformat_minor": 2
}
