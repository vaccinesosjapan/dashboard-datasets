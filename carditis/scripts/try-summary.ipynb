{
 "cells": [
  {
   "cell_type": "code",
   "execution_count": 1,
   "metadata": {},
   "outputs": [],
   "source": [
    "import os, sys, unicodedata, json, math, glob\n",
    "import yaml\n",
    "import pandas as pd\n",
    "\n",
    "# スクリプトをエクスポートするパスに応じて、ここのパス設定を調整してください。\n",
    "csv_file_path = os.path.join('..', 'expected-issues.csv')\n",
    "json_file_path = os.path.join('..', '..', '_datasets', 'carditis-reports.json')\n",
    "metadata_file_path = os.path.join('..', 'metadata.yaml')\n",
    "reports_dir_path = os.path.join('..', 'reports-data')\n",
    "output_path = os.path.join('..', '..', '_datasets', 'carditis-summary.json')\n",
    "\n",
    "df = pd.read_csv(csv_file_path, encoding='utf8')"
   ]
  },
  {
   "cell_type": "code",
   "execution_count": 2,
   "metadata": {},
   "outputs": [],
   "source": [
    "myocarditis_df = df[df['carditis_types'] == 'myocarditis']\n",
    "pericarditis_df = df[df['carditis_types'] == 'pericarditis']\n",
    "\n",
    "if df.shape[0] != myocarditis_df.shape[0] + pericarditis_df.shape[0]:\n",
    "\tprint(f'Error: 心筋炎と心膜炎以外のcarditis_typesが設定されているようです。expected-issues.csvの確認をお願いします。')\n",
    "\tsys.Exit(1)\n",
    "\n",
    "mDf_by_manufacturer = myocarditis_df.groupby('manufacturer', as_index=False)['count'].sum().sort_values('count', ascending=False)\n",
    "pDf_by_manufacturer = pericarditis_df.groupby('manufacturer', as_index=False)['count'].sum().sort_values('count', ascending=False)"
   ]
  },
  {
   "cell_type": "code",
   "execution_count": 3,
   "metadata": {},
   "outputs": [],
   "source": [
    "myocarditis_sum_count = int(mDf_by_manufacturer['count'].sum())\n",
    "pericarditis_sum_count = int(pDf_by_manufacturer['count'].sum())\n",
    "total_sum_count = myocarditis_sum_count + pericarditis_sum_count"
   ]
  },
  {
   "cell_type": "code",
   "execution_count": 4,
   "metadata": {},
   "outputs": [],
   "source": [
    "df_m = myocarditis_df.rename(columns={'count': 'myocarditis_count'}).drop(['carditis_types'], axis=1)\n",
    "df_p = pericarditis_df.rename(columns={'count': 'pericarditis_count'}).drop(['carditis_types'], axis=1)\n",
    "merged_df = pd.merge(df_m, df_p, on=['file_name_prefix', 'manufacturer', 'name'])"
   ]
  },
  {
   "cell_type": "code",
   "execution_count": 5,
   "metadata": {},
   "outputs": [],
   "source": [
    "merged_df['name'] = merged_df['name'].map(lambda x: unicodedata.normalize(\"NFKC\", str(x)))\n",
    "merged_df = merged_df.drop(['file_name_prefix', 'manufacturer'], axis=1)\n",
    "df_by_vaccine_name = merged_df.rename(columns={'name': 'vaccine_name'})"
   ]
  },
  {
   "cell_type": "code",
   "execution_count": 6,
   "metadata": {},
   "outputs": [],
   "source": [
    "# 集計した症例一覧のデータを読み込み、情報の抽出や「予測値」とのチェック、特定列の値のチェックなどを行う。\n",
    "with open(json_file_path, 'r', encoding='utf-8') as f:\n",
    "    data = json.load(f)\n",
    "reports_df = pd.json_normalize(data)"
   ]
  },
  {
   "cell_type": "code",
   "execution_count": 7,
   "metadata": {},
   "outputs": [],
   "source": [
    "empty_manufacturer_df = reports_df[reports_df['manufacturer'] == '']\n",
    "if empty_manufacturer_df.shape[0] != 0:\n",
    "\tprint('製造販売業者が空のデータがあります:\\n')\n",
    "\tfor label, value in empty_manufacturer_df.items():\n",
    "\t\tif label == 'no':\n",
    "\t\t\tprint(f' - {value.index}')\n",
    "\tprint()"
   ]
  },
  {
   "cell_type": "code",
   "execution_count": 8,
   "metadata": {},
   "outputs": [],
   "source": [
    "m_reports_path = os.path.join(reports_dir_path, '*-myocarditis.json')\n",
    "m_reports_path_list = glob.glob(m_reports_path)\n",
    "m_data_list = []\n",
    "for m_path in m_reports_path_list:\n",
    "\twith open(m_path, 'r', encoding='utf-8') as f:\n",
    "\t\tm_data_list.extend(json.load(f))\n",
    "m_reports_df = pd.DataFrame(m_data_list)\n",
    "if myocarditis_sum_count != m_reports_df.shape[0]:\n",
    "\tprint('心筋炎の件数が予測件数と異なります\\n')\n",
    "\tprint(f' - 予測件数: {myocarditis_sum_count} [件]\\n - 抽出した症例件数: {m_reports_df.shape[0]} [件]\\n')\n",
    "\tprint(m_reports_df.groupby('vaccine_name')['no'].count())\n",
    "\tprint()"
   ]
  },
  {
   "cell_type": "code",
   "execution_count": 9,
   "metadata": {},
   "outputs": [],
   "source": [
    "p_reports_path = os.path.join(reports_dir_path, '*-pericarditis.json')\n",
    "p_reports_path_list = glob.glob(p_reports_path)\n",
    "p_data_list = []\n",
    "for p_path in p_reports_path_list:\n",
    "\twith open(p_path, 'r', encoding='utf-8') as f:\n",
    "\t\tp_data_list.extend(json.load(f))\n",
    "p_reports_df = pd.DataFrame(p_data_list)\n",
    "if pericarditis_sum_count != p_reports_df.shape[0]:\n",
    "\tprint('心膜炎の件数が予測件数と異なります\\n')\n",
    "\tprint(f' - 予測件数: {pericarditis_sum_count} [件]\\n - 抽出した症例件数: {p_reports_df.shape[0]} [件]\\n')\n",
    "\tprint(p_reports_df.groupby('vaccine_name')['no'].count())\n",
    "\tprint()"
   ]
  },
  {
   "cell_type": "code",
   "execution_count": 10,
   "metadata": {},
   "outputs": [],
   "source": [
    "def sum_carditis_by_ages(df):\n",
    "    df['age'] = df['age'].map(lambda x: str(x).replace('歳代','').replace('歳','').replace('代',''))\n",
    "    df = df[[\"age\"]]\n",
    "    \n",
    "    unknown_ages_count = df[~df['age'].str.isdecimal()].shape[0]\n",
    "\n",
    "    df = df[df['age'].str.isdecimal()]\n",
    "    df['age'] = df['age'].astype(int)\n",
    "    ages_count = df.shape[0]\n",
    "    \n",
    "    df['generation'] = df['age'].apply(lambda x:math.floor(x/10)*10)\n",
    "    df['count'] = 1\n",
    "    df = df.drop(columns=['age'])\n",
    "    \n",
    "    aged_df = df.groupby('generation').sum()\n",
    "    aged_df = aged_df.reset_index()\n",
    "    aged_df['generation'] = aged_df['generation'].map(lambda x: str(x) + '代')\n",
    "    aged_df = aged_df.rename(columns={'generation': 'x'})\n",
    "    aged_df = aged_df.rename(columns={'count': 'y'})\n",
    "    aged_df.to_dict(orient='records')\n",
    "\n",
    "    return (aged_df, unknown_ages_count, ages_count)\n",
    "\n",
    "\n",
    "(aged_df, unknown_ages_count, ages_count) = sum_carditis_by_ages(reports_df)"
   ]
  },
  {
   "cell_type": "code",
   "execution_count": 11,
   "metadata": {},
   "outputs": [],
   "source": [
    "with open(metadata_file_path, \"r\", encoding='utf-8') as f:\n",
    "    metadata_root = yaml.safe_load(f) \n",
    "metadata = metadata_root['metadata']"
   ]
  },
  {
   "cell_type": "code",
   "execution_count": 12,
   "metadata": {},
   "outputs": [],
   "source": [
    "summary_data = {\n",
    "\t\"carditis_summary\": {\n",
    "\t\t\"date\": metadata['commission_of_inquiry_date'],\n",
    "\t\t\"total\": total_sum_count,\n",
    "\t\t\"myocarditis\": myocarditis_sum_count,\n",
    "\t\t\"pericarditis\": pericarditis_sum_count,\n",
    "\t\t\"source\": metadata['source'],\n",
    "\t},\n",
    "\t\"carditis_issues\": {\n",
    "        \"date\": metadata['data_end_date'],\n",
    "\t\t\"issues_with_vaccine_name\": df_by_vaccine_name.to_dict(orient='records'),\n",
    "        \"issues_m_by_manufacturers\": mDf_by_manufacturer.to_dict(orient='records'),\n",
    "        \"issues_p_by_manufacturers\": pDf_by_manufacturer.to_dict(orient='records'),\n",
    "        \"issues_by_ages\": {\n",
    "            \"ages_count\": ages_count,\n",
    "            \"unknown_ages_count\": unknown_ages_count,\n",
    "            \"issues\": aged_df.to_dict(orient='records')\n",
    "        }\n",
    "\t}\n",
    "}"
   ]
  },
  {
   "cell_type": "code",
   "execution_count": 13,
   "metadata": {},
   "outputs": [],
   "source": [
    "json_string = json.dumps(summary_data, ensure_ascii=False, indent=2)\n",
    "with open( output_path, \"w\", encoding='utf-8') as f:\n",
    "    f.write(json_string)"
   ]
  }
 ],
 "metadata": {
  "kernelspec": {
   "display_name": "Python 3",
   "language": "python",
   "name": "python3"
  },
  "language_info": {
   "codemirror_mode": {
    "name": "ipython",
    "version": 3
   },
   "file_extension": ".py",
   "mimetype": "text/x-python",
   "name": "python",
   "nbconvert_exporter": "python",
   "pygments_lexer": "ipython3",
   "version": "3.8.10"
  }
 },
 "nbformat": 4,
 "nbformat_minor": 2
}
