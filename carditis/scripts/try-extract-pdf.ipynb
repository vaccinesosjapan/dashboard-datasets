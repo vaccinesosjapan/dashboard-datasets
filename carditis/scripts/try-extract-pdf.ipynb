{
 "cells": [
  {
   "cell_type": "code",
   "execution_count": null,
   "metadata": {},
   "outputs": [],
   "source": [
    "import os, sys, typing\n",
    "import pandas as pd\n",
    "import camelot\n",
    "\n",
    "#pdf_file_name = sys.argv[1] # '001325489.pdf'\n",
    "#pages = sys.argv[2] # '30-45'\n",
    "#symptoms = sys.argv[3] # 'myocarditis'\n",
    "\n",
    "pdf_file_name = '001325489.pdf'\n",
    "pages = '30-45'\n",
    "symptoms = 'myocarditis'\n",
    "\n",
    "pdf_file_path = os.path.join('pdf-files', pdf_file_name)\n",
    "tables = camelot.read_pdf(pdf_file_path, pages=pages, encoding='utf-8')\n",
    "\n",
    "print(f\"{symptoms}: 抽出できたtableの数は {len(tables)}\")\n"
   ]
  },
  {
   "cell_type": "code",
   "execution_count": null,
   "metadata": {},
   "outputs": [],
   "source": [
    "merged_df = pd.DataFrame()\n",
    "for index, table in enumerate(tables):\n",
    "\tif index == 0:\n",
    "\t\tmerged_df = typing.cast(pd.DataFrame, table.df)\n",
    "\telse:\n",
    "\t\tdf = typing.cast(pd.DataFrame, table.df)\n",
    "\t\tmerged_df = pd.merge(merged_df, df, how='outer')\n",
    "\n",
    "csv_data = merged_df.to_csv(index=False)"
   ]
  },
  {
   "cell_type": "code",
   "execution_count": null,
   "metadata": {},
   "outputs": [],
   "source": [
    "pdf_file_name_without_ext = os.path.splitext(pdf_file_name)[0]\n",
    "csv_file_path = os.path.join('intermediate-files', f'{pdf_file_name_without_ext}-{symptoms}.csv')\n",
    "with open(csv_file_path, \"w\", encoding='utf-8') as f:\n",
    "\tf.write(csv_data)"
   ]
  },
  {
   "cell_type": "code",
   "execution_count": null,
   "metadata": {},
   "outputs": [],
   "source": [
    "merged_df.shape[0]"
   ]
  },
  {
   "cell_type": "code",
   "execution_count": null,
   "metadata": {},
   "outputs": [],
   "source": [
    "import re\n",
    "def remove_empty_lines(source_path, target_path):\n",
    "    fixed_data = ''\n",
    "    with open(source_path, encoding=\"utf-8\") as f:\n",
    "        for line in f:\n",
    "            if line.isspace():\n",
    "                continue\n",
    "            if line.startswith('0,1,2,3,4,5'):\n",
    "                continue\n",
    "            if line.startswith(','):\n",
    "                line = re.sub('^,', '', line)\n",
    "            fixed_data += line\n",
    "\n",
    "    with open(target_path, \"w\", encoding=\"utf-8\") as f:\n",
    "        f.write(fixed_data)\n",
    "\n",
    "remove_empty_lines(csv_file_path, csv_file_path)"
   ]
  }
 ],
 "metadata": {
  "kernelspec": {
   "display_name": "Python 3",
   "language": "python",
   "name": "python3"
  },
  "language_info": {
   "codemirror_mode": {
    "name": "ipython",
    "version": 3
   },
   "file_extension": ".py",
   "mimetype": "text/x-python",
   "name": "python",
   "nbconvert_exporter": "python",
   "pygments_lexer": "ipython3",
   "version": "3.8.10"
  }
 },
 "nbformat": 4,
 "nbformat_minor": 2
}
