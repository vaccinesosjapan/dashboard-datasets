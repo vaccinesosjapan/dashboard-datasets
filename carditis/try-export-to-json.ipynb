{
 "cells": [
  {
   "cell_type": "code",
   "execution_count": 1,
   "metadata": {},
   "outputs": [],
   "source": [
    "import os, re, unicodedata, json\n",
    "import pandas as pd\n",
    "\n",
    "csv_folder = 'intermediate-files'\n",
    "csv_file_name = '001325490-myocarditis-manually-fixed.csv' # sys.argv[1]\n",
    "expected_issue_count = int('217') # sys.argv[2]\n",
    "json_file_name = '001325490-myocarditis.json' # sys.argv[3]\n",
    "source_name = '第104回' # sys.argv[4]\n",
    "source_url = 'https://www.mhlw.go.jp/content/11120000/001325490.pdf' # sys.argv[5]\n",
    "\n",
    "csv_file_path = os.path.join(csv_folder, csv_file_name)\n",
    "df = pd.read_csv(csv_file_path, delimiter=',')"
   ]
  },
  {
   "cell_type": "code",
   "execution_count": 2,
   "metadata": {},
   "outputs": [],
   "source": [
    "# このあとの各種処理をしやすくするため、NaNは空文字列に置換しておく。\n",
    "df = df.fillna('')"
   ]
  },
  {
   "cell_type": "code",
   "execution_count": 3,
   "metadata": {},
   "outputs": [],
   "source": [
    "# age 列に関して、「歳」を除去すれば年齢を数字に変換できるセルだけ処理する\n",
    "age_is_number_df = df[df['age'].map(lambda x: x.replace('歳', '').isdecimal())]\n",
    "age_is_number_df.loc[:, 'age'] = age_is_number_df['age'].map(lambda x: int(x.replace('歳', '')))\n",
    "df.loc[age_is_number_df.index, 'age'] = age_is_number_df"
   ]
  },
  {
   "cell_type": "code",
   "execution_count": 4,
   "metadata": {},
   "outputs": [],
   "source": [
    "# 全角のかっこ（）に囲まれたPT名だけを抽出し、各行にPT名の配列を格納したSeriesを取得する\n",
    "regex = re.compile('(?<=（).+?(?=\\）)')\n",
    "split_PT_names_series = df['PT_names'].map(lambda x: regex.findall(x.replace('\\r\\n', '')))\n",
    "df.loc[split_PT_names_series.index, 'PT_names'] = split_PT_names_series"
   ]
  },
  {
   "cell_type": "code",
   "execution_count": 5,
   "metadata": {},
   "outputs": [],
   "source": [
    "s1 = df['onset_dates'].str.replace(' ', '')\n",
    "s2 = s1.str.replace('\\r\\n', '\\n').str.split('\\n')"
   ]
  },
  {
   "cell_type": "code",
   "execution_count": 6,
   "metadata": {},
   "outputs": [],
   "source": [
    "# 改行を除去して配列にする処理\n",
    "df.loc[:, 'onset_dates'] = df['onset_dates'].str.replace(' ', '').str.replace('\\r\\n', '\\n').str.split('\\n')\n",
    "df.loc[:, 'pre_existing_disease_names'] = df['pre_existing_disease_names'].str.replace(' ', '').str.replace('\\r\\n', '\\n').str.split('; \\n')\n",
    "df.loc[:, 'gross_result_dates'] = df['gross_result_dates'].str.replace(' ', '').str.replace('\\r\\n', '\\n').str.split('\\n')\n",
    "df.loc[:, 'gross_results'] = df['gross_results'].str.replace(' ', '').str.replace('\\r\\n', '\\n').str.split('\\n')\n",
    "df.loc[:, 'evaluated_PT'] = df['evaluated_PT'].str.replace('\\r\\n', '\\n')\n",
    "df.loc[:, 'expert_opinion'] = df['expert_opinion'].str.replace('\\r\\n', '').str.replace('\\n', '')\n",
    "df.loc[:, 'remarks'] = df['remarks'].str.replace('\\r\\n', '\\n').str.replace('\\n', '')"
   ]
  },
  {
   "cell_type": "code",
   "execution_count": 7,
   "metadata": {},
   "outputs": [],
   "source": [
    "# ワクチン名に全角の数字が含まれていて検索が困難にあるなど弊害があるため、大文字小文字などの違いも対象に正規化\n",
    "df.loc[:, 'vaccine_name'] = df['vaccine_name'].map(lambda x: unicodedata.normalize(\"NFKC\", x))"
   ]
  },
  {
   "cell_type": "code",
   "execution_count": 8,
   "metadata": {},
   "outputs": [],
   "source": [
    "result_issue_count = df.shape[0]\n",
    "if result_issue_count != expected_issue_count:\n",
    "\tprint(f'[Warning] {expected_issue_count} 件のデータのはずが、{result_issue_count} 件のデータになりました。')\n",
    "\tprint('手作業時のデータ構造や想定件数の確認が必要と思われます。')\n",
    "\tprint()"
   ]
  },
  {
   "cell_type": "code",
   "execution_count": 9,
   "metadata": {},
   "outputs": [],
   "source": [
    "# ソースの情報を一覧に追加する\n",
    "source_array = [{ \"name\": source_name, \"url\": source_url }] * df.shape[0]\n",
    "df['source'] = source_array"
   ]
  },
  {
   "cell_type": "code",
   "execution_count": null,
   "metadata": {},
   "outputs": [],
   "source": [
    "# 日付のスラッシュがエスケープされないようにするため、json.dumpsを使って文字列化する\n",
    "df_dict = df.to_dict(\"records\")\n",
    "df_string = json.dumps(df_dict, ensure_ascii=False, indent=2)\n",
    "\n",
    "json_folder = 'reports-data'\n",
    "json_file_path = os.path.join(json_folder, json_file_name)\n",
    "with open(json_file_path, encoding='utf-8', mode='w') as f:\n",
    "\tf.write(df_string)\n",
    "\n",
    "print(f'{json_file_path} にJSON形式で保存しました。')"
   ]
  }
 ],
 "metadata": {
  "kernelspec": {
   "display_name": "Python 3",
   "language": "python",
   "name": "python3"
  },
  "language_info": {
   "codemirror_mode": {
    "name": "ipython",
    "version": 3
   },
   "file_extension": ".py",
   "mimetype": "text/x-python",
   "name": "python",
   "nbconvert_exporter": "python",
   "pygments_lexer": "ipython3",
   "version": "3.8.10"
  }
 },
 "nbformat": 4,
 "nbformat_minor": 2
}
