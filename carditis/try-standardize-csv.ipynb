{
 "cells": [
  {
   "cell_type": "code",
   "execution_count": null,
   "metadata": {},
   "outputs": [],
   "source": [
    "import os, re\n",
    "import pandas as pd\n",
    "\n",
    "csv_file_path = os.path.join('intermediate-files', '001325489-myocarditis.csv')\n",
    "original_df = pd.read_csv(csv_file_path, encoding='utf-8')"
   ]
  },
  {
   "cell_type": "code",
   "execution_count": null,
   "metadata": {},
   "outputs": [],
   "source": [
    "# 列の調整。PDFから読み取った内容によっては列の数などが変動して、ここの処理を変える必要があるかも。\n",
    "df = original_df.rename(columns={'0': 'no', '1': 'age', '2': 'gender', '3': 'vaccinated_date', '4': 'onset_dates', '5': 'days_to_onset', '6': 'vaccine_name', '7': 'pre_existing_disease_names', '8': 'PT_names', '9': 'gross_result_dates', '10': 'gross_results', '11': 'evaluated_PT', '12': 'evaluated_result', '13': 'brighton_classification', '14': 'expert_opinion', '15': 'remarks'})\n",
    "df.insert(7, column='manufacturer', value='')\n",
    "df.insert(8, column='lot_no', value='')\n",
    "df.insert(9, column='vaccinated_times', value='')\n",
    "df = df.drop(0, axis=0)"
   ]
  },
  {
   "cell_type": "code",
   "execution_count": null,
   "metadata": {},
   "outputs": [],
   "source": [
    "###\n",
    "# パターン1:\n",
    "# 列インデックス「days_to_onset」の値がNaNになっているパターンを処理する関数。\n",
    "# このパターンの主な特徴は以下。詳しくはData Wranglerでp1_dfを確認。\n",
    "#   - 次の「vaccine_name」列に、「days_to_onset」の数字が半角スペース区切りで入っていることが多い\n",
    "#   - 半角スペースで区切った後の情報は、vaccine_nameなど以降の列データが改行区切りで入っていることが多い\n",
    "###\n",
    "def standardize_pattern_one(df):\n",
    "\tp1_df = df[df['days_to_onset'].isna()]\n",
    "\n",
    "\tp1_days_df = p1_df['vaccine_name'].str.split(' ', expand=True)\n",
    "\tp1_days_df.columns = ['days_to_onset', 'others']\n",
    "\tp1_df.loc[p1_days_df.index, 'days_to_onset'] = p1_days_df['days_to_onset']\n",
    "\n",
    "\tp1_va_df = p1_days_df['others'].str.split('\\r\\n', expand=True)\n",
    "\tva_columns = ['vaccine_name', 'manufacturer', 'lot_no', 'vaccinated_times']\n",
    "\tp1_va_df.columns = va_columns\n",
    "\tp1_df.loc[p1_va_df.index, va_columns] = p1_va_df\n",
    "\n",
    "\treturn p1_df\n",
    "\n",
    "###\n",
    "# パターン2:\n",
    "# 列インデックス「gender」の値がNaNになっているパターンを処理する関数。\n",
    "# このパターンの主な特徴は以下。詳しくはData Wranglerでp2_dfを確認。\n",
    "#   - 「age」列に、半角スペース区切りでgender文字列も入っていることが多い\n",
    "###\n",
    "def standardize_pattern_two(df):\n",
    "\tp2_df = df[df['gender'].isna()]\n",
    "\n",
    "\tp2_age_df = p2_df['age'].str.split(' ', expand=True)\n",
    "\tp2_age_df.columns = ['age', 'gender']\n",
    "\n",
    "\treturn p2_age_df\n",
    "\n",
    "###\n",
    "# パターン3:\n",
    "# 列がズレているために、列インデックス「evaluated_PT」にγなどが含まれているパターン。\n",
    "# このパターンの主な特徴は以下。詳しくはData Wranglerでp3_dfを確認。\n",
    "#   - 年齢と性別が、半角スペース区切りでNo列に集約されている\n",
    "#   - 他の行と比較すると、列インデックス「vaccinated_date」以降の列が左に1つズレている\n",
    "###\n",
    "def standardize_pattern_three(df):\n",
    "\tp3_df = df[df['evaluated_PT'].str.contains('α|β|γ', na=False)]\n",
    "\n",
    "\tp3_shift_df = p3_df.shift(periods=1, axis='columns')\n",
    "\tp3_shift_df.loc[p3_shift_df.index, 'no'] = p3_shift_df['age']\n",
    "\tp3_shift_df['age'] = ''\n",
    "\tp3_shift_df.loc[p3_shift_df.index, 'pre_existing_disease_names'] = p3_shift_df['manufacturer']\n",
    "\tp3_shift_df['manufacturer'] = ''\n",
    "\n",
    "\tp3_shift_no_df = p3_shift_df['no'].str.split(' ', expand=True)\n",
    "\tno_columns = ['no', 'age', 'gender']\n",
    "\tp3_shift_no_df.columns = no_columns\n",
    "\tp3_shift_df.loc[p3_shift_no_df.index, no_columns] = p3_shift_no_df\n",
    "\n",
    "\treturn p3_shift_df\n",
    "\n",
    "###\n",
    "# パターン4:\n",
    "# days_to_onsetに数字とvaccine_name文字列が両方入っており、分離が必要なパターン。\n",
    "# このパターンの主な特徴は以下。詳しくはData Wranglerでp4_dfを確認。\n",
    "#   - days_to_onsetに日数とワクチン名が入っている\n",
    "#   - vaccine_nameの列にmanufacturerなどが改行区切りで入っている\n",
    "#   - 複数行からなるデータの場合、もっとたくさんデータが入っている場合があるが、自動処理が難しいのでそれらはNoを出力すべく返す\n",
    "###\n",
    "def standardize_pattern_four(df):\n",
    "\tp4_df = df[df['days_to_onset'].str.contains('[0-9] .*', na=False)]\n",
    "\n",
    "\tp4_days_df = p4_df['days_to_onset'].str.split('\\r\\n', expand=True)\n",
    "\tp4_days_df.columns = ['days', 'second_days']\n",
    "\n",
    "\t# 複数行がまとまったデータは、days_to_onsetにさらに他の数字や文字列が続くため、second_daysがNaNではなくなる\n",
    "\t# それらのややこしいデータは手作業で修正するため、修正不可データとして返す\n",
    "\tp4_can_not_fix_sub_df = p4_days_df[p4_days_df['second_days'].isna().map(lambda x: not x)]\n",
    "\tp4_can_not_fix_df = p4_df.loc[p4_can_not_fix_sub_df.index]\n",
    "\n",
    "\t# 修正可能なデータたちの、列入れ替えを行う\n",
    "\tp4_fix_df = p4_df[p4_days_df['second_days'].isna()]\n",
    "\tp4_fix_df.loc[p4_fix_df.index, 'manufacturer'] = p4_df['vaccine_name']\n",
    "\tp4_fix_df.loc[p4_fix_df.index, 'vaccine_name'] = ''\n",
    "\n",
    "\t## days_to_onset 列のデータが日数の数字とワクチン名の組み合わせになっているデータなので、これを分離して別々の列に適用する\n",
    "\tp4_day_vac_df = p4_fix_df['days_to_onset'].str.split(' ', expand=True)\n",
    "\tday_vac_columns = ['days_to_onset', 'vaccine_name']\n",
    "\tp4_day_vac_df.columns = day_vac_columns\n",
    "\tp4_fix_df.loc[p4_day_vac_df.index, day_vac_columns] = p4_day_vac_df\n",
    "\n",
    "\t## manufacturer にlot_noなど複数のデータが含まれているデータなので、これらを分離して別々の列に適用する\n",
    "\tp4_man_lot_df = p4_fix_df['manufacturer'].str.split('\\r\\n', expand=True)\n",
    "\tman_lot_columns = ['manufacturer', 'lot_no', 'vaccinated_times']\n",
    "\tp4_man_lot_df.columns = man_lot_columns\n",
    "\tp4_fix_df.loc[p4_man_lot_df.index, man_lot_columns] = p4_man_lot_df\n",
    "\n",
    "\tp4_df.loc[p4_fix_df.index, :] = p4_fix_df\n",
    "\n",
    "\treturn p4_df, p4_can_not_fix_df\n",
    "\n",
    "###\n",
    "# パターン5:\n",
    "# days_to_onset が「不明」になっていて、ワクチン名以降の列を改行区切りで分離する必要があるデータを処理する。\n",
    "###\n",
    "def standardize_pattern_five(df):\n",
    "\tp5_df = df[df['days_to_onset'] == '不明']\n",
    "\n",
    "\tp5_man_df = p5_df['vaccine_name'].str.split('\\r\\n', expand=True)\n",
    "\tman_columns = ['vaccine_name', 'manufacturer', 'lot_no', 'vaccinated_times']\n",
    "\tp5_man_df.columns = man_columns\n",
    "\tp5_df.loc[p5_man_df.index, man_columns] = p5_man_df\n",
    "\n",
    "\treturn p5_df, man_columns"
   ]
  },
  {
   "cell_type": "code",
   "execution_count": null,
   "metadata": {},
   "outputs": [],
   "source": [
    "# パターン3の処理（列がズレており、大きく修正が必要なパターン。この修正の後、もっと普通の修正が必要な状態になるため先に処理する。）\n",
    "p3_df = standardize_pattern_three(df)\n",
    "df.loc[p3_df.index, :] = p3_df"
   ]
  },
  {
   "cell_type": "code",
   "execution_count": null,
   "metadata": {},
   "outputs": [],
   "source": [
    "# パターン4の処理\n",
    "p4_df, p4_can_not_fix_df = standardize_pattern_four(df)\n",
    "df.loc[p4_df.index, :] = p4_df\n",
    "print('以下のNo.の項目は、days_to_onsetに複数項目が含まれているため手作業での修正が必要です。')\n",
    "for item in p4_can_not_fix_df['no']:\n",
    "\tprint(f' - No: {item}')"
   ]
  },
  {
   "cell_type": "code",
   "execution_count": null,
   "metadata": {},
   "outputs": [],
   "source": [
    "# パターン1の処理\n",
    "p1_df = standardize_pattern_one(df)\n",
    "df.loc[p1_df.index, ['days_to_onset', 'vaccine_name', 'manufacturer', 'lot_no', 'vaccinated_times']] = p1_df"
   ]
  },
  {
   "cell_type": "code",
   "execution_count": null,
   "metadata": {},
   "outputs": [],
   "source": [
    "# パターン2の処理\n",
    "p2_df = standardize_pattern_two(df)\n",
    "df.loc[p2_df.index, ['age', 'gender']] = p2_df"
   ]
  },
  {
   "cell_type": "code",
   "execution_count": null,
   "metadata": {},
   "outputs": [],
   "source": [
    "# パターン5の処理\n",
    "p5_df, p5_columns = standardize_pattern_five(df)\n",
    "df.loc[p5_df.index, p5_columns] = p5_df"
   ]
  },
  {
   "cell_type": "code",
   "execution_count": null,
   "metadata": {},
   "outputs": [],
   "source": [
    "# 処理が不可能なデータをログ出力する\n",
    "\n",
    "## 複数行からなるデータの2行目以降の場合などが多いデータだが、自動処理にするよりも\n",
    "## 目視で確認しながら手作業で修正したほうが良いデータ。\n",
    "no_empty_df = df[df['no'].isna()]\n",
    "if not no_empty_df.empty:\n",
    "\tprint('No.列が空の項目があります。No.列の値に「Invalid」という文字列を適用しますので、手作業での修正をお願いします。')\n",
    "\tprint()\n",
    "\tdf.loc[no_empty_df.index, 'no'] = 'Invalid'\n",
    "\n",
    "## 種々の処理を行ったが manufacturer が空文字列のデータ。これも目視しながら手作業で修正した方が良いデータ。\n",
    "manufacturer_empty_df = df[df['manufacturer'] == '']\n",
    "if not manufacturer_empty_df.empty:\n",
    "\tprint('Manufacturer 列が空の項目があります。以下のNo.のデータについて、手作業での修正をお願いします。')\n",
    "\tfor _, row in manufacturer_empty_df.iterrows():\n",
    "\t\tprint(f' - No. {row.no}')\n",
    "\tprint()"
   ]
  },
  {
   "cell_type": "code",
   "execution_count": null,
   "metadata": {},
   "outputs": [],
   "source": [
    "csv_file_path = os.path.join('intermediate-files', '001325489-myocarditis-converted.csv')\n",
    "with open(csv_file_path, encoding='utf-8', mode='w') as f:\n",
    "\tf.write(df.to_csv(index=False))"
   ]
  },
  {
   "cell_type": "code",
   "execution_count": null,
   "metadata": {},
   "outputs": [],
   "source": [
    "def remove_empty_lines(source_path, target_path):\n",
    "    fixed_data = ''\n",
    "    with open(source_path, encoding=\"utf-8\") as f:\n",
    "        for line in f:\n",
    "            if line.isspace():\n",
    "                continue\n",
    "            if line.startswith('0,1,2,3,4,5'):\n",
    "                continue\n",
    "            if line.startswith(','):\n",
    "                line = re.sub('^,', '', line)\n",
    "            fixed_data += line\n",
    "\n",
    "    with open(target_path, \"w\", encoding=\"utf-8\") as f:\n",
    "        f.write(fixed_data)\n"
   ]
  },
  {
   "cell_type": "code",
   "execution_count": null,
   "metadata": {},
   "outputs": [],
   "source": [
    "remove_empty_lines(csv_file_path, csv_file_path)"
   ]
  }
 ],
 "metadata": {
  "kernelspec": {
   "display_name": "Python 3",
   "language": "python",
   "name": "python3"
  },
  "language_info": {
   "codemirror_mode": {
    "name": "ipython",
    "version": 3
   },
   "file_extension": ".py",
   "mimetype": "text/x-python",
   "name": "python",
   "nbconvert_exporter": "python",
   "pygments_lexer": "ipython3",
   "version": "3.8.10"
  }
 },
 "nbformat": 4,
 "nbformat_minor": 2
}
